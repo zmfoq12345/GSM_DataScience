{
 "cells": [
  {
   "cell_type": "code",
   "execution_count": null,
   "metadata": {},
   "outputs": [],
   "source": [
    "from selenium import webdriver as wb\n",
    "from selenium.webdriver.common.keys import Keys\n",
    "from bs4 import BeautifulSoup as bs\n",
    "import pandas as pd\n",
    "import time"
   ]
  },
  {
   "cell_type": "code",
   "execution_count": null,
   "metadata": {},
   "outputs": [],
   "source": [
    "driver = wb.Chrome()\n",
    "\n",
    "url = 'http://www.istarbucks.co.kr/store/store_map.do'\n",
    "driver.get(url)"
   ]
  },
  {
   "cell_type": "code",
   "execution_count": null,
   "metadata": {},
   "outputs": [],
   "source": [
    "alert = driver.switch_to_alert()\n",
    "alert.accept()"
   ]
  },
  {
   "cell_type": "code",
   "execution_count": null,
   "metadata": {},
   "outputs": [],
   "source": [
    "driver.page_source\n",
    "\n",
    "time.sleep(1)\n",
    "driver.find_element_by_css_selector('header.loca_search > h3 > a').click()\n",
    "time.sleep(1)\n",
    "driver.find_element_by_css_selector('ul.sido_arae_box > li + li + li').click()\n",
    "time.sleep(1)\n",
    "driver.find_element_by_css_selector('ul.gugun_arae_box > li').click()\n"
   ]
  },
  {
   "cell_type": "code",
   "execution_count": null,
   "metadata": {},
   "outputs": [],
   "source": [
    "soup = bs(driver.page_source, 'html.parser')\n",
    "name = soup.select('#mCSB_3_container > ul > li > strong')\n",
    "addr = soup.select('#mCSB_3_container > ul > li > p')\n",
    "tel = soup.select('#mCSB_3_container > ul > li > p')\n",
    "\n",
    "names = []\n",
    "addrs = []\n",
    "tels = []\n",
    "for i in range(len(name)):\n",
    "    names.append(name[i].text)\n",
    "    addrs.append(addr[i].text[:-12])\n",
    "    tels.append(tel[i].text[-12:])\n",
    "    "
   ]
  },
  {
   "cell_type": "code",
   "execution_count": null,
   "metadata": {},
   "outputs": [],
   "source": [
    "data = {'name':names, 'addr':addrs, 'tel': tels}"
   ]
  },
  {
   "cell_type": "code",
   "execution_count": null,
   "metadata": {},
   "outputs": [],
   "source": [
    "df = pd.DataFrame(data)\n",
    "df.head()"
   ]
  }
 ],
 "metadata": {
  "kernelspec": {
   "display_name": "Python 3",
   "language": "python",
   "name": "python3"
  },
  "language_info": {
   "codemirror_mode": {
    "name": "ipython",
    "version": 3
   },
   "file_extension": ".py",
   "mimetype": "text/x-python",
   "name": "python",
   "nbconvert_exporter": "python",
   "pygments_lexer": "ipython3",
   "version": "3.7.4"
  }
 },
 "nbformat": 4,
 "nbformat_minor": 2
}
