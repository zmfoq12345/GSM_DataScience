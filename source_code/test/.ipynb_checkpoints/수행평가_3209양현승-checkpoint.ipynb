{
 "cells": [
  {
   "cell_type": "markdown",
   "metadata": {},
   "source": [
    "### 필요한 라이브러리 불러오기"
   ]
  },
  {
   "cell_type": "code",
   "execution_count": 192,
   "metadata": {},
   "outputs": [],
   "source": [
    "from urllib.request import urlopen\n",
    "from bs4 import BeautifulSoup\n",
    "import pandas as pd\n",
    "import numpy as np"
   ]
  },
  {
   "cell_type": "markdown",
   "metadata": {},
   "source": [
    "### url 변수에 크롤링할 홈페이지 주소 가져오기 "
   ]
  },
  {
   "cell_type": "code",
   "execution_count": 193,
   "metadata": {},
   "outputs": [],
   "source": [
    "url = \"http://www.lotteria.com/menu/Menu_All.asp\""
   ]
  },
  {
   "cell_type": "markdown",
   "metadata": {},
   "source": [
    "### 해당 url의 html을 불러오기 + HTML 분석하고 파싱"
   ]
  },
  {
   "cell_type": "code",
   "execution_count": 194,
   "metadata": {},
   "outputs": [],
   "source": [
    "html = urlopen(url)\n",
    "soup = BeautifulSoup(html, 'html.parser')"
   ]
  },
  {
   "cell_type": "markdown",
   "metadata": {},
   "source": [
    "### 원하는 정보 크롤링하기 - menu_list, kcal_list, price_list 라는 3가지 리스트에 각각 모든 메뉴, 칼로리, 가격 정보 모두 넣기(단 kcal, 원 단위는 생략)"
   ]
  },
  {
   "cell_type": "code",
   "execution_count": 195,
   "metadata": {},
   "outputs": [
    {
     "name": "stdout",
     "output_type": "stream",
     "text": [
      "['핫클라쓰 세트', '1인혼닭 세트', '핫클라쓰', '1인혼닭', '찐氷', '아이스티', '마일드클라쓰 세트', '패밀리팩', '마일드클라쓰', '치킨휠레 (4조각)', '치즈인더에그', '아이스 아메리카노 L', '리아미라클버거 세트', '치킨풀팩', '리아미라클버거', '화이어윙 (2조각)', '지파이 하바네로(L)', '핫초코', '와규 에디션Ⅱ 세트', '치킨하프팩', '와규 에디션Ⅱ', '화이어윙 (4조각)', '지파이 고소한맛(S)', '오렌지주스 (400ml PET)', '더블X2 세트', '순살치킨 풀팩', '더블X2', '치킨1조각', '치킨 너겟', '우유', '새우버거 세트', '순살치킨 하프팩', '새우버거', '치킨휠레 (2조각)', '롱 치즈스틱(1조각)', '사이다(R)', '치킨버거 세트', '치킨버거', '콘샐러드', '콜라(R)', 'T-Rex 버거 세트', 'T-Rex', '선데아이스크림(스트로베리)', '밀크쉐이크(딸기)', 'AZ버거 세트', '클래식 치즈버거', '쉑쉑치킨(칠리)', '밀크쉐이크(초코)', '클래식 치즈버거 세트', '한우불고기', '쉑쉑치킨(치즈)', '밀크쉐이크(바닐라)', '한우연인팩', '모짜렐라 인 더 버거 - 베이컨', '쉑쉑치킨(어니언)', '아메리카노', '한우불고기 콤보', 'AZ버거', '양념감자', '아이스 아메리카노', '한우불고기 세트', '원조 빅불', '오징어링', '카페라떼', '한우명품팩', '핫크리스피버거', '치즈스틱', '아이스 카페라떼', '모짜렐라 인 더 버거 베이컨 세트', '불고기버거', '포테이토', '레몬에이드', '원조 빅불 세트', '데리버거', '토네이도(초코쿠키)', '핫크리스피버거세트', '토네이도(녹차)', '데리버거 세트', '토네이도(스트로베리)', '불고기버거 세트', '소프트콘']\n",
      "['1,231', '801', '837', '581', '530', '160', '1,095', '1,712', '701', '366', '183', '55', '968', '2,590', '574', '176', '566', '151', '892', '1,232', '497', '353', '422', '175', '1,125', '1,477', '730', '272', '198', '179', '886', '739', '492', '183', '156', '133', '779', '355', '146', '128', '870', '475', '249', '219', '941', '483', '253', '245', '877', '539', '259', '228', '1,714', '715', '265', '34', '677', '547', '359', '32', '933', '672', '178', '210', '1,830', '503', '160', '98', '1,109', '442', '267', '151', '1,067', '356', '308', '898', '244', '750', '272', '836', '145']\n",
      "['7,200', '11,500', '5,400', '10,000', '3,800', '2,200', '6,300', '13,600', '4,300', '4,500', '3,000', '2,500', '7,400', '18,800', '5,600', '2,500', '4,300', '2,000', '7,600', '9,300', '5,800', '4,500', '3,400', '2,500', '7,500', '15,900', '5,500', '2,300', '1,200', '1,500', '5,900', '8,900', '3,900', '2,500', '1,800', '1,700', '5,100', '2,900', '1,700', '1,700', '5,900', '3,700', '1,500', '2,100', '8,300', '4,400', '2,500', '2,100', '6,400', '7,000', '2,500', '2,100', '13,900', '6,000', '2,500', '2,000', '8,000', '6,600', '2,000', '2,000', '8,700', '5,800', '2,200', '2,400', '15,600', '4,900', '2,000', '2,400', '7,700', '3,900', '1,500', '2,500', '7,600', '2,500', '2,300', '6,700', '2,300', '4,900', '2,400', '5,900', '700']\n",
      "81\n",
      "81\n",
      "81\n"
     ]
    }
   ],
   "source": [
    "menu_list = []\n",
    "kcal_list = []\n",
    "price_list = []\n",
    "\n",
    "for i in range(1, 20):\n",
    "    results = soup.select(f\"#frmNavi > div > ul > li:nth-child({i}) > div+div\")\n",
    "    for j in results:\n",
    "        data = j.text.split('\\n')\n",
    "        menu_list.append(data[3])\n",
    "        kcal_list.append(data[4][:-4])\n",
    "        price_list.append(data[5][:-1])\n",
    "print(menu_list)\n",
    "print(kcal_list)\n",
    "print(price_list)\n",
    "print(len(menu_list))\n",
    "print(len(kcal_list))\n",
    "print(len(price_list))\n",
    "    \n",
    "#select_one, select, find, find_all 4가지 연산자 중 선택하여 사용하면 됩니다."
   ]
  },
  {
   "cell_type": "markdown",
   "metadata": {},
   "source": [
    "### 가져온 정보(3개의 리스트)를 딕셔너리 형태로 만들기(칼럼명, 순서는 'menu', 'kcal', 'price') + 데이터프레임으로 만들어 5줄만 나타내기 (칼럼 순서 지켜야 함!)"
   ]
  },
  {
   "cell_type": "code",
   "execution_count": 196,
   "metadata": {},
   "outputs": [
    {
     "data": {
      "text/html": [
       "<div>\n",
       "<style scoped>\n",
       "    .dataframe tbody tr th:only-of-type {\n",
       "        vertical-align: middle;\n",
       "    }\n",
       "\n",
       "    .dataframe tbody tr th {\n",
       "        vertical-align: top;\n",
       "    }\n",
       "\n",
       "    .dataframe thead th {\n",
       "        text-align: right;\n",
       "    }\n",
       "</style>\n",
       "<table border=\"1\" class=\"dataframe\">\n",
       "  <thead>\n",
       "    <tr style=\"text-align: right;\">\n",
       "      <th></th>\n",
       "      <th>menu</th>\n",
       "      <th>kcal</th>\n",
       "      <th>price</th>\n",
       "    </tr>\n",
       "  </thead>\n",
       "  <tbody>\n",
       "    <tr>\n",
       "      <td>0</td>\n",
       "      <td>핫클라쓰 세트</td>\n",
       "      <td>1,231</td>\n",
       "      <td>7,200</td>\n",
       "    </tr>\n",
       "    <tr>\n",
       "      <td>1</td>\n",
       "      <td>1인혼닭 세트</td>\n",
       "      <td>801</td>\n",
       "      <td>11,500</td>\n",
       "    </tr>\n",
       "    <tr>\n",
       "      <td>2</td>\n",
       "      <td>핫클라쓰</td>\n",
       "      <td>837</td>\n",
       "      <td>5,400</td>\n",
       "    </tr>\n",
       "    <tr>\n",
       "      <td>3</td>\n",
       "      <td>1인혼닭</td>\n",
       "      <td>581</td>\n",
       "      <td>10,000</td>\n",
       "    </tr>\n",
       "    <tr>\n",
       "      <td>4</td>\n",
       "      <td>찐氷</td>\n",
       "      <td>530</td>\n",
       "      <td>3,800</td>\n",
       "    </tr>\n",
       "  </tbody>\n",
       "</table>\n",
       "</div>"
      ],
      "text/plain": [
       "      menu   kcal   price\n",
       "0  핫클라쓰 세트  1,231   7,200\n",
       "1  1인혼닭 세트    801  11,500\n",
       "2     핫클라쓰    837   5,400\n",
       "3     1인혼닭    581  10,000\n",
       "4       찐氷    530   3,800"
      ]
     },
     "execution_count": 196,
     "metadata": {},
     "output_type": "execute_result"
    }
   ],
   "source": [
    "lot_dict = {'menu':menu_list, 'kcal': kcal_list, 'price': price_list}\n",
    "df = pd.DataFrame(lot_dict)\n",
    "df.head(5)"
   ]
  },
  {
   "cell_type": "markdown",
   "metadata": {},
   "source": [
    "### test 폴더에 csv파일로 저장 (파일이름은 '롯데리아메뉴', 엑셀 파일을 열었을 때 한글이 깨지지 않고, 인덱스 없이 저장하기)"
   ]
  },
  {
   "cell_type": "code",
   "execution_count": 197,
   "metadata": {},
   "outputs": [],
   "source": [
    "df.to_csv('롯데리아메뉴.csv',encoding='euc-kr', index=False)"
   ]
  },
  {
   "cell_type": "markdown",
   "metadata": {},
   "source": [
    "### df 변수에 저장했던 csv파일 불러오기, 옵션에 thousands=',' 추가하여 천 단위 표현(,)생략 + 5줄 나타내기"
   ]
  },
  {
   "cell_type": "code",
   "execution_count": 198,
   "metadata": {},
   "outputs": [
    {
     "data": {
      "text/html": [
       "<div>\n",
       "<style scoped>\n",
       "    .dataframe tbody tr th:only-of-type {\n",
       "        vertical-align: middle;\n",
       "    }\n",
       "\n",
       "    .dataframe tbody tr th {\n",
       "        vertical-align: top;\n",
       "    }\n",
       "\n",
       "    .dataframe thead th {\n",
       "        text-align: right;\n",
       "    }\n",
       "</style>\n",
       "<table border=\"1\" class=\"dataframe\">\n",
       "  <thead>\n",
       "    <tr style=\"text-align: right;\">\n",
       "      <th></th>\n",
       "      <th>menu</th>\n",
       "      <th>kcal</th>\n",
       "      <th>price</th>\n",
       "    </tr>\n",
       "  </thead>\n",
       "  <tbody>\n",
       "    <tr>\n",
       "      <td>0</td>\n",
       "      <td>핫클라쓰 세트</td>\n",
       "      <td>1231</td>\n",
       "      <td>7200</td>\n",
       "    </tr>\n",
       "    <tr>\n",
       "      <td>1</td>\n",
       "      <td>1인혼닭 세트</td>\n",
       "      <td>801</td>\n",
       "      <td>11500</td>\n",
       "    </tr>\n",
       "    <tr>\n",
       "      <td>2</td>\n",
       "      <td>핫클라쓰</td>\n",
       "      <td>837</td>\n",
       "      <td>5400</td>\n",
       "    </tr>\n",
       "    <tr>\n",
       "      <td>3</td>\n",
       "      <td>1인혼닭</td>\n",
       "      <td>581</td>\n",
       "      <td>10000</td>\n",
       "    </tr>\n",
       "    <tr>\n",
       "      <td>4</td>\n",
       "      <td>찐氷</td>\n",
       "      <td>530</td>\n",
       "      <td>3800</td>\n",
       "    </tr>\n",
       "  </tbody>\n",
       "</table>\n",
       "</div>"
      ],
      "text/plain": [
       "      menu  kcal  price\n",
       "0  핫클라쓰 세트  1231   7200\n",
       "1  1인혼닭 세트   801  11500\n",
       "2     핫클라쓰   837   5400\n",
       "3     1인혼닭   581  10000\n",
       "4       찐氷   530   3800"
      ]
     },
     "execution_count": 198,
     "metadata": {},
     "output_type": "execute_result"
    }
   ],
   "source": [
    "df = pd.read_csv('롯데리아메뉴.csv', encoding='euc-kr', thousands=',')\n",
    "df.head(5)"
   ]
  },
  {
   "cell_type": "markdown",
   "metadata": {},
   "source": [
    "### df의 총 데이터 건수, 데이터 타입, Null 건수를 한 번에 알아보기"
   ]
  },
  {
   "cell_type": "code",
   "execution_count": 199,
   "metadata": {},
   "outputs": [
    {
     "name": "stdout",
     "output_type": "stream",
     "text": [
      "<class 'pandas.core.frame.DataFrame'>\n",
      "RangeIndex: 81 entries, 0 to 80\n",
      "Data columns (total 3 columns):\n",
      "menu     81 non-null object\n",
      "kcal     81 non-null int64\n",
      "price    81 non-null int64\n",
      "dtypes: int64(2), object(1)\n",
      "memory usage: 2.0+ KB\n"
     ]
    }
   ],
   "source": [
    "df.info()"
   ]
  },
  {
   "cell_type": "markdown",
   "metadata": {},
   "source": [
    "### df의 'menu' 칼럼명을 '메뉴'로 수정하기"
   ]
  },
  {
   "cell_type": "code",
   "execution_count": 200,
   "metadata": {},
   "outputs": [
    {
     "data": {
      "text/html": [
       "<div>\n",
       "<style scoped>\n",
       "    .dataframe tbody tr th:only-of-type {\n",
       "        vertical-align: middle;\n",
       "    }\n",
       "\n",
       "    .dataframe tbody tr th {\n",
       "        vertical-align: top;\n",
       "    }\n",
       "\n",
       "    .dataframe thead th {\n",
       "        text-align: right;\n",
       "    }\n",
       "</style>\n",
       "<table border=\"1\" class=\"dataframe\">\n",
       "  <thead>\n",
       "    <tr style=\"text-align: right;\">\n",
       "      <th></th>\n",
       "      <th>메뉴</th>\n",
       "      <th>kcal</th>\n",
       "      <th>price</th>\n",
       "    </tr>\n",
       "  </thead>\n",
       "  <tbody>\n",
       "    <tr>\n",
       "      <td>0</td>\n",
       "      <td>핫클라쓰 세트</td>\n",
       "      <td>1231</td>\n",
       "      <td>7200</td>\n",
       "    </tr>\n",
       "    <tr>\n",
       "      <td>1</td>\n",
       "      <td>1인혼닭 세트</td>\n",
       "      <td>801</td>\n",
       "      <td>11500</td>\n",
       "    </tr>\n",
       "    <tr>\n",
       "      <td>2</td>\n",
       "      <td>핫클라쓰</td>\n",
       "      <td>837</td>\n",
       "      <td>5400</td>\n",
       "    </tr>\n",
       "    <tr>\n",
       "      <td>3</td>\n",
       "      <td>1인혼닭</td>\n",
       "      <td>581</td>\n",
       "      <td>10000</td>\n",
       "    </tr>\n",
       "    <tr>\n",
       "      <td>4</td>\n",
       "      <td>찐氷</td>\n",
       "      <td>530</td>\n",
       "      <td>3800</td>\n",
       "    </tr>\n",
       "  </tbody>\n",
       "</table>\n",
       "</div>"
      ],
      "text/plain": [
       "        메뉴  kcal  price\n",
       "0  핫클라쓰 세트  1231   7200\n",
       "1  1인혼닭 세트   801  11500\n",
       "2     핫클라쓰   837   5400\n",
       "3     1인혼닭   581  10000\n",
       "4       찐氷   530   3800"
      ]
     },
     "execution_count": 200,
     "metadata": {},
     "output_type": "execute_result"
    }
   ],
   "source": [
    "df = df.rename(columns={'menu':'메뉴'})\n",
    "df.head(5)"
   ]
  },
  {
   "cell_type": "markdown",
   "metadata": {},
   "source": [
    "### df의 인덱스를 확인하기"
   ]
  },
  {
   "cell_type": "code",
   "execution_count": 201,
   "metadata": {},
   "outputs": [
    {
     "data": {
      "text/plain": [
       "RangeIndex(start=0, stop=81, step=1)"
      ]
     },
     "execution_count": 201,
     "metadata": {},
     "output_type": "execute_result"
    }
   ],
   "source": [
    "df.index"
   ]
  },
  {
   "cell_type": "markdown",
   "metadata": {},
   "source": [
    "### (loc, iloc 명령 중 선택하여 사용) df의 인덱스를 확인하여 맨 마지막 그 다음 행(81번째 행)에 '메뉴'는 '오미자에이드', 'kcal'는 140, 'price'는 3000 정보를 가진 행 추가하기 + 맨 마지막 행 확인하기"
   ]
  },
  {
   "cell_type": "code",
   "execution_count": 202,
   "metadata": {},
   "outputs": [
    {
     "data": {
      "text/plain": [
       "메뉴       오미자에이드\n",
       "kcal        140\n",
       "price      3000\n",
       "Name: 81, dtype: object"
      ]
     },
     "execution_count": 202,
     "metadata": {},
     "output_type": "execute_result"
    }
   ],
   "source": [
    "df.loc[81] = ['오미자에이드', '140', '3000']\n",
    "df.loc[81]"
   ]
  },
  {
   "cell_type": "markdown",
   "metadata": {},
   "source": [
    "### df를 복사하여 df2라는 새로운 데이터프레임 만들기"
   ]
  },
  {
   "cell_type": "code",
   "execution_count": 203,
   "metadata": {},
   "outputs": [],
   "source": [
    "df2= df.copy()"
   ]
  },
  {
   "cell_type": "markdown",
   "metadata": {},
   "source": [
    "### df2 에 '만족도'라는 새로운 칼럼을 만들어  '만족도' 값이 모두 NaN값을 가지도록 하기 + 5줄 나타내기"
   ]
  },
  {
   "cell_type": "code",
   "execution_count": 204,
   "metadata": {},
   "outputs": [
    {
     "data": {
      "text/html": [
       "<div>\n",
       "<style scoped>\n",
       "    .dataframe tbody tr th:only-of-type {\n",
       "        vertical-align: middle;\n",
       "    }\n",
       "\n",
       "    .dataframe tbody tr th {\n",
       "        vertical-align: top;\n",
       "    }\n",
       "\n",
       "    .dataframe thead th {\n",
       "        text-align: right;\n",
       "    }\n",
       "</style>\n",
       "<table border=\"1\" class=\"dataframe\">\n",
       "  <thead>\n",
       "    <tr style=\"text-align: right;\">\n",
       "      <th></th>\n",
       "      <th>메뉴</th>\n",
       "      <th>kcal</th>\n",
       "      <th>price</th>\n",
       "      <th>만족도</th>\n",
       "    </tr>\n",
       "  </thead>\n",
       "  <tbody>\n",
       "    <tr>\n",
       "      <td>0</td>\n",
       "      <td>핫클라쓰 세트</td>\n",
       "      <td>1231</td>\n",
       "      <td>7200</td>\n",
       "      <td>NaN</td>\n",
       "    </tr>\n",
       "    <tr>\n",
       "      <td>1</td>\n",
       "      <td>1인혼닭 세트</td>\n",
       "      <td>801</td>\n",
       "      <td>11500</td>\n",
       "      <td>NaN</td>\n",
       "    </tr>\n",
       "    <tr>\n",
       "      <td>2</td>\n",
       "      <td>핫클라쓰</td>\n",
       "      <td>837</td>\n",
       "      <td>5400</td>\n",
       "      <td>NaN</td>\n",
       "    </tr>\n",
       "    <tr>\n",
       "      <td>3</td>\n",
       "      <td>1인혼닭</td>\n",
       "      <td>581</td>\n",
       "      <td>10000</td>\n",
       "      <td>NaN</td>\n",
       "    </tr>\n",
       "    <tr>\n",
       "      <td>4</td>\n",
       "      <td>찐氷</td>\n",
       "      <td>530</td>\n",
       "      <td>3800</td>\n",
       "      <td>NaN</td>\n",
       "    </tr>\n",
       "  </tbody>\n",
       "</table>\n",
       "</div>"
      ],
      "text/plain": [
       "        메뉴  kcal  price  만족도\n",
       "0  핫클라쓰 세트  1231   7200  NaN\n",
       "1  1인혼닭 세트   801  11500  NaN\n",
       "2     핫클라쓰   837   5400  NaN\n",
       "3     1인혼닭   581  10000  NaN\n",
       "4       찐氷   530   3800  NaN"
      ]
     },
     "execution_count": 204,
     "metadata": {},
     "output_type": "execute_result"
    }
   ],
   "source": [
    "df2['만족도'] = np.nan\n",
    "df2.head(5)"
   ]
  },
  {
   "cell_type": "markdown",
   "metadata": {},
   "source": [
    "### g_index라는 변수에 kcal가 500미만이고, price가 5000 이하인 인덱스를 저장하기 + 인덱스가 g_index인 '만족도' 값을 모두 5로 만들기 (loc, iloc 명령 중 선택하여 사용)"
   ]
  },
  {
   "cell_type": "code",
   "execution_count": 205,
   "metadata": {},
   "outputs": [
    {
     "data": {
      "text/html": [
       "<div>\n",
       "<style scoped>\n",
       "    .dataframe tbody tr th:only-of-type {\n",
       "        vertical-align: middle;\n",
       "    }\n",
       "\n",
       "    .dataframe tbody tr th {\n",
       "        vertical-align: top;\n",
       "    }\n",
       "\n",
       "    .dataframe thead th {\n",
       "        text-align: right;\n",
       "    }\n",
       "</style>\n",
       "<table border=\"1\" class=\"dataframe\">\n",
       "  <thead>\n",
       "    <tr style=\"text-align: right;\">\n",
       "      <th></th>\n",
       "      <th>메뉴</th>\n",
       "      <th>kcal</th>\n",
       "      <th>price</th>\n",
       "      <th>만족도</th>\n",
       "    </tr>\n",
       "  </thead>\n",
       "  <tbody>\n",
       "    <tr>\n",
       "      <td>0</td>\n",
       "      <td>핫클라쓰 세트</td>\n",
       "      <td>1231</td>\n",
       "      <td>7200</td>\n",
       "      <td>NaN</td>\n",
       "    </tr>\n",
       "    <tr>\n",
       "      <td>1</td>\n",
       "      <td>1인혼닭 세트</td>\n",
       "      <td>801</td>\n",
       "      <td>11500</td>\n",
       "      <td>NaN</td>\n",
       "    </tr>\n",
       "    <tr>\n",
       "      <td>2</td>\n",
       "      <td>핫클라쓰</td>\n",
       "      <td>837</td>\n",
       "      <td>5400</td>\n",
       "      <td>NaN</td>\n",
       "    </tr>\n",
       "    <tr>\n",
       "      <td>3</td>\n",
       "      <td>1인혼닭</td>\n",
       "      <td>581</td>\n",
       "      <td>10000</td>\n",
       "      <td>NaN</td>\n",
       "    </tr>\n",
       "    <tr>\n",
       "      <td>4</td>\n",
       "      <td>찐氷</td>\n",
       "      <td>530</td>\n",
       "      <td>3800</td>\n",
       "      <td>NaN</td>\n",
       "    </tr>\n",
       "    <tr>\n",
       "      <td>5</td>\n",
       "      <td>아이스티</td>\n",
       "      <td>160</td>\n",
       "      <td>2200</td>\n",
       "      <td>5.0</td>\n",
       "    </tr>\n",
       "    <tr>\n",
       "      <td>6</td>\n",
       "      <td>마일드클라쓰 세트</td>\n",
       "      <td>1095</td>\n",
       "      <td>6300</td>\n",
       "      <td>NaN</td>\n",
       "    </tr>\n",
       "    <tr>\n",
       "      <td>7</td>\n",
       "      <td>패밀리팩</td>\n",
       "      <td>1712</td>\n",
       "      <td>13600</td>\n",
       "      <td>NaN</td>\n",
       "    </tr>\n",
       "    <tr>\n",
       "      <td>8</td>\n",
       "      <td>마일드클라쓰</td>\n",
       "      <td>701</td>\n",
       "      <td>4300</td>\n",
       "      <td>NaN</td>\n",
       "    </tr>\n",
       "    <tr>\n",
       "      <td>9</td>\n",
       "      <td>치킨휠레 (4조각)</td>\n",
       "      <td>366</td>\n",
       "      <td>4500</td>\n",
       "      <td>5.0</td>\n",
       "    </tr>\n",
       "  </tbody>\n",
       "</table>\n",
       "</div>"
      ],
      "text/plain": [
       "           메뉴  kcal  price  만족도\n",
       "0     핫클라쓰 세트  1231   7200  NaN\n",
       "1     1인혼닭 세트   801  11500  NaN\n",
       "2        핫클라쓰   837   5400  NaN\n",
       "3        1인혼닭   581  10000  NaN\n",
       "4          찐氷   530   3800  NaN\n",
       "5        아이스티   160   2200  5.0\n",
       "6   마일드클라쓰 세트  1095   6300  NaN\n",
       "7        패밀리팩  1712  13600  NaN\n",
       "8      마일드클라쓰   701   4300  NaN\n",
       "9  치킨휠레 (4조각)   366   4500  5.0"
      ]
     },
     "execution_count": 205,
     "metadata": {},
     "output_type": "execute_result"
    }
   ],
   "source": [
    "df['kcal'] = df['kcal'].astype(int)\n",
    "df['price'] = df['price'].astype(int)\n",
    "g_index = df[(df['kcal'] < 500) & (df['price'] <= 5000)].index\n",
    "# len(g_index)\n",
    "for x in g_index:\n",
    "    df2.iloc[x, 3] = 5\n",
    "df2.head(10)"
   ]
  },
  {
   "cell_type": "markdown",
   "metadata": {},
   "source": [
    "### s_index라는 변수에 kcal가 500이상, 1000미만인 인덱스를 저장하기 + 인덱스가 s_index인 '만족도' 값을 모두 3로 만들기 (loc, iloc 명령 중 선택하여 사용)"
   ]
  },
  {
   "cell_type": "code",
   "execution_count": 206,
   "metadata": {},
   "outputs": [
    {
     "data": {
      "text/html": [
       "<div>\n",
       "<style scoped>\n",
       "    .dataframe tbody tr th:only-of-type {\n",
       "        vertical-align: middle;\n",
       "    }\n",
       "\n",
       "    .dataframe tbody tr th {\n",
       "        vertical-align: top;\n",
       "    }\n",
       "\n",
       "    .dataframe thead th {\n",
       "        text-align: right;\n",
       "    }\n",
       "</style>\n",
       "<table border=\"1\" class=\"dataframe\">\n",
       "  <thead>\n",
       "    <tr style=\"text-align: right;\">\n",
       "      <th></th>\n",
       "      <th>메뉴</th>\n",
       "      <th>kcal</th>\n",
       "      <th>price</th>\n",
       "      <th>만족도</th>\n",
       "    </tr>\n",
       "  </thead>\n",
       "  <tbody>\n",
       "    <tr>\n",
       "      <td>0</td>\n",
       "      <td>핫클라쓰 세트</td>\n",
       "      <td>1231</td>\n",
       "      <td>7200</td>\n",
       "      <td>NaN</td>\n",
       "    </tr>\n",
       "    <tr>\n",
       "      <td>1</td>\n",
       "      <td>1인혼닭 세트</td>\n",
       "      <td>801</td>\n",
       "      <td>11500</td>\n",
       "      <td>3.0</td>\n",
       "    </tr>\n",
       "    <tr>\n",
       "      <td>2</td>\n",
       "      <td>핫클라쓰</td>\n",
       "      <td>837</td>\n",
       "      <td>5400</td>\n",
       "      <td>3.0</td>\n",
       "    </tr>\n",
       "    <tr>\n",
       "      <td>3</td>\n",
       "      <td>1인혼닭</td>\n",
       "      <td>581</td>\n",
       "      <td>10000</td>\n",
       "      <td>3.0</td>\n",
       "    </tr>\n",
       "    <tr>\n",
       "      <td>4</td>\n",
       "      <td>찐氷</td>\n",
       "      <td>530</td>\n",
       "      <td>3800</td>\n",
       "      <td>3.0</td>\n",
       "    </tr>\n",
       "    <tr>\n",
       "      <td>5</td>\n",
       "      <td>아이스티</td>\n",
       "      <td>160</td>\n",
       "      <td>2200</td>\n",
       "      <td>5.0</td>\n",
       "    </tr>\n",
       "    <tr>\n",
       "      <td>6</td>\n",
       "      <td>마일드클라쓰 세트</td>\n",
       "      <td>1095</td>\n",
       "      <td>6300</td>\n",
       "      <td>NaN</td>\n",
       "    </tr>\n",
       "    <tr>\n",
       "      <td>7</td>\n",
       "      <td>패밀리팩</td>\n",
       "      <td>1712</td>\n",
       "      <td>13600</td>\n",
       "      <td>NaN</td>\n",
       "    </tr>\n",
       "    <tr>\n",
       "      <td>8</td>\n",
       "      <td>마일드클라쓰</td>\n",
       "      <td>701</td>\n",
       "      <td>4300</td>\n",
       "      <td>3.0</td>\n",
       "    </tr>\n",
       "    <tr>\n",
       "      <td>9</td>\n",
       "      <td>치킨휠레 (4조각)</td>\n",
       "      <td>366</td>\n",
       "      <td>4500</td>\n",
       "      <td>5.0</td>\n",
       "    </tr>\n",
       "  </tbody>\n",
       "</table>\n",
       "</div>"
      ],
      "text/plain": [
       "           메뉴  kcal  price  만족도\n",
       "0     핫클라쓰 세트  1231   7200  NaN\n",
       "1     1인혼닭 세트   801  11500  3.0\n",
       "2        핫클라쓰   837   5400  3.0\n",
       "3        1인혼닭   581  10000  3.0\n",
       "4          찐氷   530   3800  3.0\n",
       "5        아이스티   160   2200  5.0\n",
       "6   마일드클라쓰 세트  1095   6300  NaN\n",
       "7        패밀리팩  1712  13600  NaN\n",
       "8      마일드클라쓰   701   4300  3.0\n",
       "9  치킨휠레 (4조각)   366   4500  5.0"
      ]
     },
     "execution_count": 206,
     "metadata": {},
     "output_type": "execute_result"
    }
   ],
   "source": [
    "s_index = df[(df['kcal'] >= 500) & (df['kcal'] < 1000)].index\n",
    "# len(g_index)\n",
    "for x in s_index:\n",
    "    df2.iloc[x, 3] = 3\n",
    "df2.head(10)"
   ]
  },
  {
   "cell_type": "markdown",
   "metadata": {},
   "source": [
    "### b_index라는 변수에 kcal가 1000이상인 인덱스를 저장하기 + 인덱스가 b_index인 '만족도' 값을 모두 1로 만들기 (loc, iloc 명령 중 선택하여 사용)"
   ]
  },
  {
   "cell_type": "code",
   "execution_count": 207,
   "metadata": {},
   "outputs": [
    {
     "data": {
      "text/html": [
       "<div>\n",
       "<style scoped>\n",
       "    .dataframe tbody tr th:only-of-type {\n",
       "        vertical-align: middle;\n",
       "    }\n",
       "\n",
       "    .dataframe tbody tr th {\n",
       "        vertical-align: top;\n",
       "    }\n",
       "\n",
       "    .dataframe thead th {\n",
       "        text-align: right;\n",
       "    }\n",
       "</style>\n",
       "<table border=\"1\" class=\"dataframe\">\n",
       "  <thead>\n",
       "    <tr style=\"text-align: right;\">\n",
       "      <th></th>\n",
       "      <th>메뉴</th>\n",
       "      <th>kcal</th>\n",
       "      <th>price</th>\n",
       "      <th>만족도</th>\n",
       "    </tr>\n",
       "  </thead>\n",
       "  <tbody>\n",
       "    <tr>\n",
       "      <td>0</td>\n",
       "      <td>핫클라쓰 세트</td>\n",
       "      <td>1231</td>\n",
       "      <td>7200</td>\n",
       "      <td>1.0</td>\n",
       "    </tr>\n",
       "    <tr>\n",
       "      <td>1</td>\n",
       "      <td>1인혼닭 세트</td>\n",
       "      <td>801</td>\n",
       "      <td>11500</td>\n",
       "      <td>3.0</td>\n",
       "    </tr>\n",
       "    <tr>\n",
       "      <td>2</td>\n",
       "      <td>핫클라쓰</td>\n",
       "      <td>837</td>\n",
       "      <td>5400</td>\n",
       "      <td>3.0</td>\n",
       "    </tr>\n",
       "    <tr>\n",
       "      <td>3</td>\n",
       "      <td>1인혼닭</td>\n",
       "      <td>581</td>\n",
       "      <td>10000</td>\n",
       "      <td>3.0</td>\n",
       "    </tr>\n",
       "    <tr>\n",
       "      <td>4</td>\n",
       "      <td>찐氷</td>\n",
       "      <td>530</td>\n",
       "      <td>3800</td>\n",
       "      <td>3.0</td>\n",
       "    </tr>\n",
       "    <tr>\n",
       "      <td>5</td>\n",
       "      <td>아이스티</td>\n",
       "      <td>160</td>\n",
       "      <td>2200</td>\n",
       "      <td>5.0</td>\n",
       "    </tr>\n",
       "    <tr>\n",
       "      <td>6</td>\n",
       "      <td>마일드클라쓰 세트</td>\n",
       "      <td>1095</td>\n",
       "      <td>6300</td>\n",
       "      <td>1.0</td>\n",
       "    </tr>\n",
       "    <tr>\n",
       "      <td>7</td>\n",
       "      <td>패밀리팩</td>\n",
       "      <td>1712</td>\n",
       "      <td>13600</td>\n",
       "      <td>1.0</td>\n",
       "    </tr>\n",
       "    <tr>\n",
       "      <td>8</td>\n",
       "      <td>마일드클라쓰</td>\n",
       "      <td>701</td>\n",
       "      <td>4300</td>\n",
       "      <td>3.0</td>\n",
       "    </tr>\n",
       "    <tr>\n",
       "      <td>9</td>\n",
       "      <td>치킨휠레 (4조각)</td>\n",
       "      <td>366</td>\n",
       "      <td>4500</td>\n",
       "      <td>5.0</td>\n",
       "    </tr>\n",
       "  </tbody>\n",
       "</table>\n",
       "</div>"
      ],
      "text/plain": [
       "           메뉴  kcal  price  만족도\n",
       "0     핫클라쓰 세트  1231   7200  1.0\n",
       "1     1인혼닭 세트   801  11500  3.0\n",
       "2        핫클라쓰   837   5400  3.0\n",
       "3        1인혼닭   581  10000  3.0\n",
       "4          찐氷   530   3800  3.0\n",
       "5        아이스티   160   2200  5.0\n",
       "6   마일드클라쓰 세트  1095   6300  1.0\n",
       "7        패밀리팩  1712  13600  1.0\n",
       "8      마일드클라쓰   701   4300  3.0\n",
       "9  치킨휠레 (4조각)   366   4500  5.0"
      ]
     },
     "execution_count": 207,
     "metadata": {},
     "output_type": "execute_result"
    }
   ],
   "source": [
    "b_index = df[(df['kcal'] >= 1000)].index\n",
    "# len(g_index)\n",
    "for x in b_index:\n",
    "    df2.iloc[x, 3] = 1\n",
    "df2.head(10)"
   ]
  },
  {
   "cell_type": "markdown",
   "metadata": {},
   "source": [
    "### df2의 각각의 칼럼에 총 몇 개의 NaN을 가지고 있는지 한 번에 나타내기"
   ]
  },
  {
   "cell_type": "code",
   "execution_count": 208,
   "metadata": {},
   "outputs": [
    {
     "data": {
      "text/plain": [
       "메뉴       0\n",
       "kcal     0\n",
       "price    0\n",
       "만족도      1\n",
       "dtype: int64"
      ]
     },
     "execution_count": 208,
     "metadata": {},
     "output_type": "execute_result"
    }
   ],
   "source": [
    "df2.isna().sum()"
   ]
  },
  {
   "cell_type": "markdown",
   "metadata": {},
   "source": [
    "### df2의 '만족도' 칼럼이 NaN인 행의 데이터 찾기"
   ]
  },
  {
   "cell_type": "code",
   "execution_count": 209,
   "metadata": {},
   "outputs": [
    {
     "data": {
      "text/html": [
       "<div>\n",
       "<style scoped>\n",
       "    .dataframe tbody tr th:only-of-type {\n",
       "        vertical-align: middle;\n",
       "    }\n",
       "\n",
       "    .dataframe tbody tr th {\n",
       "        vertical-align: top;\n",
       "    }\n",
       "\n",
       "    .dataframe thead th {\n",
       "        text-align: right;\n",
       "    }\n",
       "</style>\n",
       "<table border=\"1\" class=\"dataframe\">\n",
       "  <thead>\n",
       "    <tr style=\"text-align: right;\">\n",
       "      <th></th>\n",
       "      <th>메뉴</th>\n",
       "      <th>kcal</th>\n",
       "      <th>price</th>\n",
       "      <th>만족도</th>\n",
       "    </tr>\n",
       "  </thead>\n",
       "  <tbody>\n",
       "    <tr>\n",
       "      <td>20</td>\n",
       "      <td>와규 에디션Ⅱ</td>\n",
       "      <td>497</td>\n",
       "      <td>5800</td>\n",
       "      <td>NaN</td>\n",
       "    </tr>\n",
       "  </tbody>\n",
       "</table>\n",
       "</div>"
      ],
      "text/plain": [
       "         메뉴 kcal price  만족도\n",
       "20  와규 에디션Ⅱ  497  5800  NaN"
      ]
     },
     "execution_count": 209,
     "metadata": {},
     "output_type": "execute_result"
    }
   ],
   "source": [
    "df2[df2['만족도'].isnull()]"
   ]
  },
  {
   "cell_type": "markdown",
   "metadata": {},
   "source": [
    "### df2가 갖고 있는 결손 데이터 삭제하기 + 삭제가 잘 되었는지 확인하기  "
   ]
  },
  {
   "cell_type": "code",
   "execution_count": 210,
   "metadata": {},
   "outputs": [
    {
     "data": {
      "text/plain": [
       "메뉴       0\n",
       "kcal     0\n",
       "price    0\n",
       "만족도      0\n",
       "dtype: int64"
      ]
     },
     "execution_count": 210,
     "metadata": {},
     "output_type": "execute_result"
    }
   ],
   "source": [
    "df2 = df2.dropna()\n",
    "df2.isna().sum()"
   ]
  },
  {
   "cell_type": "markdown",
   "metadata": {},
   "source": [
    "### df를 'price'가 높은 순서대로 정렬하여 'high_price'라는 새로운 데이터프레임으로 저장하기 + high_price 데이터 프레임의 인덱스를 '메뉴'로 바꾸기 + high_price 상위 7줄 나타내기"
   ]
  },
  {
   "cell_type": "code",
   "execution_count": 211,
   "metadata": {},
   "outputs": [
    {
     "ename": "TypeError",
     "evalue": "'<' not supported between instances of 'int' and 'str'",
     "output_type": "error",
     "traceback": [
      "\u001b[1;31m---------------------------------------------------------------------------\u001b[0m",
      "\u001b[1;31mTypeError\u001b[0m                                 Traceback (most recent call last)",
      "\u001b[1;32m<ipython-input-211-e866aa50b771>\u001b[0m in \u001b[0;36m<module>\u001b[1;34m\u001b[0m\n\u001b[1;32m----> 1\u001b[1;33m \u001b[0mhigh_price\u001b[0m \u001b[1;33m=\u001b[0m \u001b[0mdf2\u001b[0m\u001b[1;33m.\u001b[0m\u001b[0msort_values\u001b[0m\u001b[1;33m(\u001b[0m\u001b[0mby\u001b[0m\u001b[1;33m=\u001b[0m\u001b[1;34m'price'\u001b[0m\u001b[1;33m,\u001b[0m \u001b[0mascending\u001b[0m\u001b[1;33m=\u001b[0m\u001b[1;32mFalse\u001b[0m\u001b[1;33m)\u001b[0m\u001b[1;33m\u001b[0m\u001b[1;33m\u001b[0m\u001b[0m\n\u001b[0m\u001b[0;32m      2\u001b[0m \u001b[0mhigh_price\u001b[0m\u001b[1;33m.\u001b[0m\u001b[0mhead\u001b[0m\u001b[1;33m(\u001b[0m\u001b[1;33m)\u001b[0m\u001b[1;33m\u001b[0m\u001b[1;33m\u001b[0m\u001b[0m\n",
      "\u001b[1;32m~\\Anaconda3\\lib\\site-packages\\pandas\\core\\frame.py\u001b[0m in \u001b[0;36msort_values\u001b[1;34m(self, by, axis, ascending, inplace, kind, na_position)\u001b[0m\n\u001b[0;32m   4997\u001b[0m \u001b[1;33m\u001b[0m\u001b[0m\n\u001b[0;32m   4998\u001b[0m             indexer = nargsort(\n\u001b[1;32m-> 4999\u001b[1;33m                 \u001b[0mk\u001b[0m\u001b[1;33m,\u001b[0m \u001b[0mkind\u001b[0m\u001b[1;33m=\u001b[0m\u001b[0mkind\u001b[0m\u001b[1;33m,\u001b[0m \u001b[0mascending\u001b[0m\u001b[1;33m=\u001b[0m\u001b[0mascending\u001b[0m\u001b[1;33m,\u001b[0m \u001b[0mna_position\u001b[0m\u001b[1;33m=\u001b[0m\u001b[0mna_position\u001b[0m\u001b[1;33m\u001b[0m\u001b[1;33m\u001b[0m\u001b[0m\n\u001b[0m\u001b[0;32m   5000\u001b[0m             )\n\u001b[0;32m   5001\u001b[0m \u001b[1;33m\u001b[0m\u001b[0m\n",
      "\u001b[1;32m~\\Anaconda3\\lib\\site-packages\\pandas\\core\\sorting.py\u001b[0m in \u001b[0;36mnargsort\u001b[1;34m(items, kind, ascending, na_position)\u001b[0m\n\u001b[0;32m    258\u001b[0m         \u001b[0mnon_nans\u001b[0m \u001b[1;33m=\u001b[0m \u001b[0mnon_nans\u001b[0m\u001b[1;33m[\u001b[0m\u001b[1;33m:\u001b[0m\u001b[1;33m:\u001b[0m\u001b[1;33m-\u001b[0m\u001b[1;36m1\u001b[0m\u001b[1;33m]\u001b[0m\u001b[1;33m\u001b[0m\u001b[1;33m\u001b[0m\u001b[0m\n\u001b[0;32m    259\u001b[0m         \u001b[0mnon_nan_idx\u001b[0m \u001b[1;33m=\u001b[0m \u001b[0mnon_nan_idx\u001b[0m\u001b[1;33m[\u001b[0m\u001b[1;33m:\u001b[0m\u001b[1;33m:\u001b[0m\u001b[1;33m-\u001b[0m\u001b[1;36m1\u001b[0m\u001b[1;33m]\u001b[0m\u001b[1;33m\u001b[0m\u001b[1;33m\u001b[0m\u001b[0m\n\u001b[1;32m--> 260\u001b[1;33m     \u001b[0mindexer\u001b[0m \u001b[1;33m=\u001b[0m \u001b[0mnon_nan_idx\u001b[0m\u001b[1;33m[\u001b[0m\u001b[0mnon_nans\u001b[0m\u001b[1;33m.\u001b[0m\u001b[0margsort\u001b[0m\u001b[1;33m(\u001b[0m\u001b[0mkind\u001b[0m\u001b[1;33m=\u001b[0m\u001b[0mkind\u001b[0m\u001b[1;33m)\u001b[0m\u001b[1;33m]\u001b[0m\u001b[1;33m\u001b[0m\u001b[1;33m\u001b[0m\u001b[0m\n\u001b[0m\u001b[0;32m    261\u001b[0m     \u001b[1;32mif\u001b[0m \u001b[1;32mnot\u001b[0m \u001b[0mascending\u001b[0m\u001b[1;33m:\u001b[0m\u001b[1;33m\u001b[0m\u001b[1;33m\u001b[0m\u001b[0m\n\u001b[0;32m    262\u001b[0m         \u001b[0mindexer\u001b[0m \u001b[1;33m=\u001b[0m \u001b[0mindexer\u001b[0m\u001b[1;33m[\u001b[0m\u001b[1;33m:\u001b[0m\u001b[1;33m:\u001b[0m\u001b[1;33m-\u001b[0m\u001b[1;36m1\u001b[0m\u001b[1;33m]\u001b[0m\u001b[1;33m\u001b[0m\u001b[1;33m\u001b[0m\u001b[0m\n",
      "\u001b[1;31mTypeError\u001b[0m: '<' not supported between instances of 'int' and 'str'"
     ]
    }
   ],
   "source": [
    "high_price = df2.sort_values(by='price', ascending=False)\n",
    "high_price.head()"
   ]
  },
  {
   "cell_type": "markdown",
   "metadata": {},
   "source": [
    "### matplotlib을 사용하여 시각화하기"
   ]
  },
  {
   "cell_type": "code",
   "execution_count": 212,
   "metadata": {},
   "outputs": [],
   "source": [
    "import matplotlib.pyplot as plt\n",
    "%matplotlib inline\n",
    "\n",
    "import platform\n",
    "from matplotlib import font_manager, rc\n",
    "\n",
    "plt.rcParams['axes.unicode_minus'] = False\n",
    "\n",
    "#윈도우\n",
    "path = \"c:/Windows/Fonts/malgun.ttf\"\n",
    "font_name = font_manager.FontProperties(fname=path).get_name()\n",
    "rc('font', family=font_name)\n",
    "\n",
    "#맥\n",
    "#rc('font', family='AppleGothic')"
   ]
  },
  {
   "cell_type": "markdown",
   "metadata": {},
   "source": [
    "### 시각화 조건\n",
    "figure 크기는 (10,10)\n",
    "\n",
    "plt.scatter을 사용하여 데이터를 점으로 나타내기, x축 값은 df['kcal'], y축 값은 df['price'], 점의 사이즈는 50, 마커 모양은 별모양, 색깔은 초록색\n",
    "\n",
    "제목은 '롯데리아 메뉴'\n",
    "\n",
    "x축 제목은 '칼로리'\n",
    "\n",
    "y축 제목은 '가격'\n",
    "\n",
    "y축 범위는 0~20000\n",
    "\n",
    "high_price 데이터 프레임을 사용하여 가격이 높은 상위 7개 메뉴 글자로 나타내기\n",
    "\n",
    "시각화 한 차트를 현재경로(test폴더)에 png 형식으로 저장하기 (파일명: '롯데리아메뉴_학년반번호이름')\n",
    "ex) 롯데리아메뉴_3221임은영"
   ]
  },
  {
   "cell_type": "code",
   "execution_count": 213,
   "metadata": {
    "scrolled": true
   },
   "outputs": [
    {
     "data": {
      "image/png": "[encoded data removed]",
      "text/plain": [
       "<Figure size 720x720 with 1 Axes>"
      ]
     },
     "metadata": {
      "needs_background": "light"
     },
     "output_type": "display_data"
    }
   ],
   "source": [
    "plt.figure(figsize = (10,10))\n",
    "plt.scatter(df['kcal'], df['price'], s=50, marker='*', color = 'g')\n",
    "plt.title('롯데리아 메뉴')\n",
    "plt.xlabel('칼로리')\n",
    "plt.ylabel('가격')\n",
    "plt.ylim(0,20000)\n",
    "\n",
    "for i in range(7):\n",
    "    plt.text(high_price['kcal'][i], high_price['price'][i], high_price['메뉴'][i], fontsize=15)\n",
    "    \n",
    "plt.savefig('롯데리아메뉴_3209양현승.png')"
   ]
  },
  {
   "cell_type": "code",
   "execution_count": null,
   "metadata": {},
   "outputs": [],
   "source": []
  }
 ],
 "metadata": {
  "kernelspec": {
   "display_name": "Python 3",
   "language": "python",
   "name": "python3"
  },
  "language_info": {
   "codemirror_mode": {
    "name": "ipython",
    "version": 3
   },
   "file_extension": ".py",
   "mimetype": "text/x-python",
   "name": "python",
   "nbconvert_exporter": "python",
   "pygments_lexer": "ipython3",
   "version": "3.7.4"
  }
 },
 "nbformat": 4,
 "nbformat_minor": 2
}
