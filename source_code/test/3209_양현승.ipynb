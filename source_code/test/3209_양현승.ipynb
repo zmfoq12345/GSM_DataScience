{
 "cells": [
  {
   "cell_type": "markdown",
   "metadata": {},
   "source": [
    "# 주택 가격 예측하기 (회귀)"
   ]
  },
  {
   "cell_type": "markdown",
   "metadata": {},
   "source": [
    "## 조건 : 테스트세트 점수가 0.7 이상이어야 함 (아래 3가지 알고리즘 중 2가지 선택해서 사용)"
   ]
  },
  {
   "cell_type": "markdown",
   "metadata": {},
   "source": [
    "### 힌트 : 과소적합이 나올 경우, 특성 늘린 뒤, MinMaxScaler 사용하기"
   ]
  },
  {
   "cell_type": "markdown",
   "metadata": {},
   "source": [
    "### 회귀 알고리즘 종류\n",
    "- LinearRegression\n",
    "- Ridge\n",
    "- KNeighborsRegressor"
   ]
  },
  {
   "cell_type": "code",
   "execution_count": 2,
   "metadata": {},
   "outputs": [],
   "source": [
    "import pandas as pd\n",
    "import numpy as np"
   ]
  },
  {
   "cell_type": "markdown",
   "metadata": {},
   "source": [
    "## 'housing_price' csv파일을 불러와 'housing' 변수에 저장하기"
   ]
  },
  {
   "cell_type": "code",
   "execution_count": 3,
   "metadata": {},
   "outputs": [
    {
     "data": {
      "text/html": [
       "<div>\n",
       "<style scoped>\n",
       "    .dataframe tbody tr th:only-of-type {\n",
       "        vertical-align: middle;\n",
       "    }\n",
       "\n",
       "    .dataframe tbody tr th {\n",
       "        vertical-align: top;\n",
       "    }\n",
       "\n",
       "    .dataframe thead th {\n",
       "        text-align: right;\n",
       "    }\n",
       "</style>\n",
       "<table border=\"1\" class=\"dataframe\">\n",
       "  <thead>\n",
       "    <tr style=\"text-align: right;\">\n",
       "      <th></th>\n",
       "      <th>longitude</th>\n",
       "      <th>latitude</th>\n",
       "      <th>housing_median_age</th>\n",
       "      <th>total_rooms</th>\n",
       "      <th>total_bedrooms</th>\n",
       "      <th>population</th>\n",
       "      <th>households</th>\n",
       "      <th>median_income</th>\n",
       "      <th>median_house_value</th>\n",
       "    </tr>\n",
       "  </thead>\n",
       "  <tbody>\n",
       "    <tr>\n",
       "      <td>0</td>\n",
       "      <td>-122.23</td>\n",
       "      <td>37.88</td>\n",
       "      <td>41</td>\n",
       "      <td>880</td>\n",
       "      <td>129.0</td>\n",
       "      <td>322</td>\n",
       "      <td>126</td>\n",
       "      <td>8.3252</td>\n",
       "      <td>452600</td>\n",
       "    </tr>\n",
       "    <tr>\n",
       "      <td>1</td>\n",
       "      <td>-122.22</td>\n",
       "      <td>37.86</td>\n",
       "      <td>21</td>\n",
       "      <td>7099</td>\n",
       "      <td>1106.0</td>\n",
       "      <td>2401</td>\n",
       "      <td>1138</td>\n",
       "      <td>8.3014</td>\n",
       "      <td>358500</td>\n",
       "    </tr>\n",
       "    <tr>\n",
       "      <td>2</td>\n",
       "      <td>-122.24</td>\n",
       "      <td>37.85</td>\n",
       "      <td>52</td>\n",
       "      <td>1467</td>\n",
       "      <td>190.0</td>\n",
       "      <td>496</td>\n",
       "      <td>177</td>\n",
       "      <td>7.2574</td>\n",
       "      <td>352100</td>\n",
       "    </tr>\n",
       "    <tr>\n",
       "      <td>3</td>\n",
       "      <td>-122.25</td>\n",
       "      <td>37.85</td>\n",
       "      <td>52</td>\n",
       "      <td>1274</td>\n",
       "      <td>235.0</td>\n",
       "      <td>558</td>\n",
       "      <td>219</td>\n",
       "      <td>5.6431</td>\n",
       "      <td>341300</td>\n",
       "    </tr>\n",
       "    <tr>\n",
       "      <td>4</td>\n",
       "      <td>-122.25</td>\n",
       "      <td>37.85</td>\n",
       "      <td>52</td>\n",
       "      <td>1627</td>\n",
       "      <td>280.0</td>\n",
       "      <td>565</td>\n",
       "      <td>259</td>\n",
       "      <td>3.8462</td>\n",
       "      <td>342200</td>\n",
       "    </tr>\n",
       "  </tbody>\n",
       "</table>\n",
       "</div>"
      ],
      "text/plain": [
       "   longitude  latitude  housing_median_age  total_rooms  total_bedrooms  \\\n",
       "0    -122.23     37.88                  41          880           129.0   \n",
       "1    -122.22     37.86                  21         7099          1106.0   \n",
       "2    -122.24     37.85                  52         1467           190.0   \n",
       "3    -122.25     37.85                  52         1274           235.0   \n",
       "4    -122.25     37.85                  52         1627           280.0   \n",
       "\n",
       "   population  households  median_income  median_house_value  \n",
       "0         322         126         8.3252              452600  \n",
       "1        2401        1138         8.3014              358500  \n",
       "2         496         177         7.2574              352100  \n",
       "3         558         219         5.6431              341300  \n",
       "4         565         259         3.8462              342200  "
      ]
     },
     "execution_count": 3,
     "metadata": {},
     "output_type": "execute_result"
    }
   ],
   "source": [
    "housing = pd.read_csv('housing_price.csv', encoding='utf-8')\n",
    "housing.head()"
   ]
  },
  {
   "cell_type": "markdown",
   "metadata": {},
   "source": [
    "## housing 결측치 확인하기"
   ]
  },
  {
   "cell_type": "code",
   "execution_count": 60,
   "metadata": {},
   "outputs": [
    {
     "name": "stdout",
     "output_type": "stream",
     "text": [
      "<class 'pandas.core.frame.DataFrame'>\n",
      "Int64Index: 20433 entries, 0 to 20639\n",
      "Data columns (total 9 columns):\n",
      "longitude             20433 non-null float64\n",
      "latitude              20433 non-null float64\n",
      "housing_median_age    20433 non-null int64\n",
      "total_rooms           20433 non-null int64\n",
      "total_bedrooms        20433 non-null float64\n",
      "population            20433 non-null int64\n",
      "households            20433 non-null int64\n",
      "median_income         20433 non-null float64\n",
      "median_house_value    20433 non-null int64\n",
      "dtypes: float64(4), int64(5)\n",
      "memory usage: 1.6 MB\n"
     ]
    }
   ],
   "source": [
    "housing.info()"
   ]
  },
  {
   "cell_type": "markdown",
   "metadata": {},
   "source": [
    "## housing에 결측치가 있을 경우 null이 있는 행 모두 제거하기 + 잘 제거되었는지 확인"
   ]
  },
  {
   "cell_type": "code",
   "execution_count": 61,
   "metadata": {},
   "outputs": [
    {
     "data": {
      "text/plain": [
       "longitude             0\n",
       "latitude              0\n",
       "housing_median_age    0\n",
       "total_rooms           0\n",
       "total_bedrooms        0\n",
       "population            0\n",
       "households            0\n",
       "median_income         0\n",
       "median_house_value    0\n",
       "dtype: int64"
      ]
     },
     "execution_count": 61,
     "metadata": {},
     "output_type": "execute_result"
    }
   ],
   "source": [
    "housing.dropna(inplace=True)\n",
    "housing.isna().sum()"
   ]
  },
  {
   "cell_type": "markdown",
   "metadata": {},
   "source": [
    "## 문제데이터(X), 정답데이터(y) 나누기\n",
    "- 정답 데이터(y)는 'median_house_value'\n",
    "- 문제 데이터(X)는 'median_house_value'을 뺀 나머지"
   ]
  },
  {
   "cell_type": "code",
   "execution_count": 112,
   "metadata": {},
   "outputs": [],
   "source": [
    "X = housing.drop(['median_house_value'], axis = 1)\n",
    "y = housing['median_house_value']"
   ]
  },
  {
   "cell_type": "markdown",
   "metadata": {},
   "source": [
    "## 문제데이터(X), 정답데이터(y) 잘 나누어졌는지 확인"
   ]
  },
  {
   "cell_type": "code",
   "execution_count": 113,
   "metadata": {},
   "outputs": [
    {
     "data": {
      "text/plain": [
       "((20433, 8), (20433,))"
      ]
     },
     "execution_count": 113,
     "metadata": {},
     "output_type": "execute_result"
    }
   ],
   "source": [
    "X.shape, y.shape"
   ]
  },
  {
   "cell_type": "markdown",
   "metadata": {},
   "source": [
    "## EDA\n",
    "- seaborn의 pairplot 사용\n",
    "- x축은 housing_median_age 부터 median_income까지 나타내기(총 5개 칼럼)\n",
    "- y축은 median_house_value \n",
    "- kind = 'reg' "
   ]
  },
  {
   "cell_type": "code",
   "execution_count": 64,
   "metadata": {},
   "outputs": [],
   "source": [
    "import seaborn as sns"
   ]
  },
  {
   "cell_type": "code",
   "execution_count": 237,
   "metadata": {
    "scrolled": true
   },
   "outputs": [
    {
     "data": {
      "text/plain": [
       "<seaborn.axisgrid.PairGrid at 0x1ae1be89708>"
      ]
     },
     "execution_count": 237,
     "metadata": {},
     "output_type": "execute_result"
    },
    {
     "data": {
      "image/png": "[encoded data removed]",
      "text/plain": [
       "<Figure size 1080x216 with 5 Axes>"
      ]
     },
     "metadata": {
      "needs_background": "light"
     },
     "output_type": "display_data"
    }
   ],
   "source": [
    "sns.pairplot(housing, \n",
    "             x_vars = ['total_rooms', 'total_bedrooms', 'population', 'households', 'median_income'],\n",
    "             y_vars = ['median_house_value'],\n",
    "             kind = 'reg',\n",
    "             height = 3,\n",
    "             aspect = 1\n",
    "            )"
   ]
  },
  {
   "cell_type": "markdown",
   "metadata": {},
   "source": [
    "## 학습용/테스트용 데이터 나누기\n",
    "- test_size = 0.3\n",
    "- random_state=3"
   ]
  },
  {
   "cell_type": "code",
   "execution_count": 114,
   "metadata": {},
   "outputs": [],
   "source": [
    "from sklearn.model_selection import train_test_split"
   ]
  },
  {
   "cell_type": "code",
   "execution_count": 115,
   "metadata": {},
   "outputs": [],
   "source": [
    "X_train, X_test, y_train, y_test = train_test_split(X, y, test_size=0.3, random_state = 3)"
   ]
  },
  {
   "cell_type": "markdown",
   "metadata": {},
   "source": [
    "## 학습용/테스트용 데이터 잘 나누어졌는지 확인"
   ]
  },
  {
   "cell_type": "code",
   "execution_count": 116,
   "metadata": {},
   "outputs": [
    {
     "name": "stdout",
     "output_type": "stream",
     "text": [
      "(14303, 8) (6130, 8) (14303,) (6130,)\n"
     ]
    }
   ],
   "source": [
    "print(X_train.shape, X_test.shape, y_train.shape, y_test.shape)"
   ]
  },
  {
   "cell_type": "markdown",
   "metadata": {},
   "source": [
    "## 머신러닝 선택+객체만들기+학습+평가(R squared(0.7이상 나와야 함), RMSE 둘 다 계산)"
   ]
  },
  {
   "cell_type": "markdown",
   "metadata": {},
   "source": [
    "### 힌트 : 과소적합이 나올 경우, 특성 늘린 뒤, MinMaxScaler 사용하기"
   ]
  },
  {
   "cell_type": "markdown",
   "metadata": {},
   "source": [
    "### 회귀 알고리즘 종류 (3가지 중 2가지 선택)\n",
    "- LinearRegression\n",
    "- Ridge\n",
    "- KNeighborsRegressor"
   ]
  },
  {
   "cell_type": "markdown",
   "metadata": {},
   "source": [
    "## LinearRegression 알고리즘 사용할 경우"
   ]
  },
  {
   "cell_type": "code",
   "execution_count": 128,
   "metadata": {},
   "outputs": [],
   "source": [
    "from sklearn.linear_model import LinearRegression"
   ]
  },
  {
   "cell_type": "code",
   "execution_count": 129,
   "metadata": {},
   "outputs": [],
   "source": [
    "lr = LinearRegression()"
   ]
  },
  {
   "cell_type": "code",
   "execution_count": 130,
   "metadata": {},
   "outputs": [
    {
     "data": {
      "text/plain": [
       "LinearRegression(copy_X=True, fit_intercept=True, n_jobs=None, normalize=False)"
      ]
     },
     "execution_count": 130,
     "metadata": {},
     "output_type": "execute_result"
    }
   ],
   "source": [
    "lr.fit(X_train, y_train)"
   ]
  },
  {
   "cell_type": "code",
   "execution_count": 120,
   "metadata": {},
   "outputs": [
    {
     "name": "stdout",
     "output_type": "stream",
     "text": [
      "훈련 세트 점수: 0.6294946915383521\n",
      "테스트 세트 점수: 0.6534700842412247\n"
     ]
    }
   ],
   "source": [
    "print(\"훈련 세트 점수: {}\".format(lr.score(X_train, y_train)))\n",
    "print(\"테스트 세트 점수: {}\".format(lr.score(X_test, y_test)))"
   ]
  },
  {
   "cell_type": "code",
   "execution_count": 121,
   "metadata": {},
   "outputs": [],
   "source": [
    "col = X.columns\n",
    "for i in range(col.size):\n",
    "    for j in range(i,col.size):\n",
    "        X[col[i]+'x'+col[j]] = X[col[i]]*X[col[j]]"
   ]
  },
  {
   "cell_type": "code",
   "execution_count": 122,
   "metadata": {},
   "outputs": [
    {
     "name": "stdout",
     "output_type": "stream",
     "text": [
      "(20433, 44)\n"
     ]
    },
    {
     "data": {
      "text/html": [
       "<div>\n",
       "<style scoped>\n",
       "    .dataframe tbody tr th:only-of-type {\n",
       "        vertical-align: middle;\n",
       "    }\n",
       "\n",
       "    .dataframe tbody tr th {\n",
       "        vertical-align: top;\n",
       "    }\n",
       "\n",
       "    .dataframe thead th {\n",
       "        text-align: right;\n",
       "    }\n",
       "</style>\n",
       "<table border=\"1\" class=\"dataframe\">\n",
       "  <thead>\n",
       "    <tr style=\"text-align: right;\">\n",
       "      <th></th>\n",
       "      <th>longitude</th>\n",
       "      <th>latitude</th>\n",
       "      <th>housing_median_age</th>\n",
       "      <th>total_rooms</th>\n",
       "      <th>total_bedrooms</th>\n",
       "      <th>population</th>\n",
       "      <th>households</th>\n",
       "      <th>median_income</th>\n",
       "      <th>longitudexlongitude</th>\n",
       "      <th>longitudexlatitude</th>\n",
       "      <th>...</th>\n",
       "      <th>total_bedroomsxtotal_bedrooms</th>\n",
       "      <th>total_bedroomsxpopulation</th>\n",
       "      <th>total_bedroomsxhouseholds</th>\n",
       "      <th>total_bedroomsxmedian_income</th>\n",
       "      <th>populationxpopulation</th>\n",
       "      <th>populationxhouseholds</th>\n",
       "      <th>populationxmedian_income</th>\n",
       "      <th>householdsxhouseholds</th>\n",
       "      <th>householdsxmedian_income</th>\n",
       "      <th>median_incomexmedian_income</th>\n",
       "    </tr>\n",
       "  </thead>\n",
       "  <tbody>\n",
       "    <tr>\n",
       "      <td>0</td>\n",
       "      <td>-122.23</td>\n",
       "      <td>37.88</td>\n",
       "      <td>41</td>\n",
       "      <td>880</td>\n",
       "      <td>129.0</td>\n",
       "      <td>322</td>\n",
       "      <td>126</td>\n",
       "      <td>8.3252</td>\n",
       "      <td>14940.1729</td>\n",
       "      <td>-4630.0724</td>\n",
       "      <td>...</td>\n",
       "      <td>16641.0</td>\n",
       "      <td>41538.0</td>\n",
       "      <td>16254.0</td>\n",
       "      <td>1073.9508</td>\n",
       "      <td>103684</td>\n",
       "      <td>40572</td>\n",
       "      <td>2680.7144</td>\n",
       "      <td>15876</td>\n",
       "      <td>1048.9752</td>\n",
       "      <td>69.308955</td>\n",
       "    </tr>\n",
       "    <tr>\n",
       "      <td>1</td>\n",
       "      <td>-122.22</td>\n",
       "      <td>37.86</td>\n",
       "      <td>21</td>\n",
       "      <td>7099</td>\n",
       "      <td>1106.0</td>\n",
       "      <td>2401</td>\n",
       "      <td>1138</td>\n",
       "      <td>8.3014</td>\n",
       "      <td>14937.7284</td>\n",
       "      <td>-4627.2492</td>\n",
       "      <td>...</td>\n",
       "      <td>1223236.0</td>\n",
       "      <td>2655506.0</td>\n",
       "      <td>1258628.0</td>\n",
       "      <td>9181.3484</td>\n",
       "      <td>5764801</td>\n",
       "      <td>2732338</td>\n",
       "      <td>19931.6614</td>\n",
       "      <td>1295044</td>\n",
       "      <td>9446.9932</td>\n",
       "      <td>68.913242</td>\n",
       "    </tr>\n",
       "    <tr>\n",
       "      <td>2</td>\n",
       "      <td>-122.24</td>\n",
       "      <td>37.85</td>\n",
       "      <td>52</td>\n",
       "      <td>1467</td>\n",
       "      <td>190.0</td>\n",
       "      <td>496</td>\n",
       "      <td>177</td>\n",
       "      <td>7.2574</td>\n",
       "      <td>14942.6176</td>\n",
       "      <td>-4626.7840</td>\n",
       "      <td>...</td>\n",
       "      <td>36100.0</td>\n",
       "      <td>94240.0</td>\n",
       "      <td>33630.0</td>\n",
       "      <td>1378.9060</td>\n",
       "      <td>246016</td>\n",
       "      <td>87792</td>\n",
       "      <td>3599.6704</td>\n",
       "      <td>31329</td>\n",
       "      <td>1284.5598</td>\n",
       "      <td>52.669855</td>\n",
       "    </tr>\n",
       "    <tr>\n",
       "      <td>3</td>\n",
       "      <td>-122.25</td>\n",
       "      <td>37.85</td>\n",
       "      <td>52</td>\n",
       "      <td>1274</td>\n",
       "      <td>235.0</td>\n",
       "      <td>558</td>\n",
       "      <td>219</td>\n",
       "      <td>5.6431</td>\n",
       "      <td>14945.0625</td>\n",
       "      <td>-4627.1625</td>\n",
       "      <td>...</td>\n",
       "      <td>55225.0</td>\n",
       "      <td>131130.0</td>\n",
       "      <td>51465.0</td>\n",
       "      <td>1326.1285</td>\n",
       "      <td>311364</td>\n",
       "      <td>122202</td>\n",
       "      <td>3148.8498</td>\n",
       "      <td>47961</td>\n",
       "      <td>1235.8389</td>\n",
       "      <td>31.844578</td>\n",
       "    </tr>\n",
       "    <tr>\n",
       "      <td>4</td>\n",
       "      <td>-122.25</td>\n",
       "      <td>37.85</td>\n",
       "      <td>52</td>\n",
       "      <td>1627</td>\n",
       "      <td>280.0</td>\n",
       "      <td>565</td>\n",
       "      <td>259</td>\n",
       "      <td>3.8462</td>\n",
       "      <td>14945.0625</td>\n",
       "      <td>-4627.1625</td>\n",
       "      <td>...</td>\n",
       "      <td>78400.0</td>\n",
       "      <td>158200.0</td>\n",
       "      <td>72520.0</td>\n",
       "      <td>1076.9360</td>\n",
       "      <td>319225</td>\n",
       "      <td>146335</td>\n",
       "      <td>2173.1030</td>\n",
       "      <td>67081</td>\n",
       "      <td>996.1658</td>\n",
       "      <td>14.793254</td>\n",
       "    </tr>\n",
       "  </tbody>\n",
       "</table>\n",
       "<p>5 rows × 44 columns</p>\n",
       "</div>"
      ],
      "text/plain": [
       "   longitude  latitude  housing_median_age  total_rooms  total_bedrooms  \\\n",
       "0    -122.23     37.88                  41          880           129.0   \n",
       "1    -122.22     37.86                  21         7099          1106.0   \n",
       "2    -122.24     37.85                  52         1467           190.0   \n",
       "3    -122.25     37.85                  52         1274           235.0   \n",
       "4    -122.25     37.85                  52         1627           280.0   \n",
       "\n",
       "   population  households  median_income  longitudexlongitude  \\\n",
       "0         322         126         8.3252           14940.1729   \n",
       "1        2401        1138         8.3014           14937.7284   \n",
       "2         496         177         7.2574           14942.6176   \n",
       "3         558         219         5.6431           14945.0625   \n",
       "4         565         259         3.8462           14945.0625   \n",
       "\n",
       "   longitudexlatitude  ...  total_bedroomsxtotal_bedrooms  \\\n",
       "0          -4630.0724  ...                        16641.0   \n",
       "1          -4627.2492  ...                      1223236.0   \n",
       "2          -4626.7840  ...                        36100.0   \n",
       "3          -4627.1625  ...                        55225.0   \n",
       "4          -4627.1625  ...                        78400.0   \n",
       "\n",
       "   total_bedroomsxpopulation  total_bedroomsxhouseholds  \\\n",
       "0                    41538.0                    16254.0   \n",
       "1                  2655506.0                  1258628.0   \n",
       "2                    94240.0                    33630.0   \n",
       "3                   131130.0                    51465.0   \n",
       "4                   158200.0                    72520.0   \n",
       "\n",
       "   total_bedroomsxmedian_income  populationxpopulation  populationxhouseholds  \\\n",
       "0                     1073.9508                 103684                  40572   \n",
       "1                     9181.3484                5764801                2732338   \n",
       "2                     1378.9060                 246016                  87792   \n",
       "3                     1326.1285                 311364                 122202   \n",
       "4                     1076.9360                 319225                 146335   \n",
       "\n",
       "   populationxmedian_income  householdsxhouseholds  householdsxmedian_income  \\\n",
       "0                 2680.7144                  15876                 1048.9752   \n",
       "1                19931.6614                1295044                 9446.9932   \n",
       "2                 3599.6704                  31329                 1284.5598   \n",
       "3                 3148.8498                  47961                 1235.8389   \n",
       "4                 2173.1030                  67081                  996.1658   \n",
       "\n",
       "   median_incomexmedian_income  \n",
       "0                    69.308955  \n",
       "1                    68.913242  \n",
       "2                    52.669855  \n",
       "3                    31.844578  \n",
       "4                    14.793254  \n",
       "\n",
       "[5 rows x 44 columns]"
      ]
     },
     "execution_count": 122,
     "metadata": {},
     "output_type": "execute_result"
    }
   ],
   "source": [
    "print(X.shape)\n",
    "X.head()"
   ]
  },
  {
   "cell_type": "code",
   "execution_count": 123,
   "metadata": {},
   "outputs": [],
   "source": [
    "from sklearn.preprocessing import MinMaxScaler"
   ]
  },
  {
   "cell_type": "code",
   "execution_count": 124,
   "metadata": {},
   "outputs": [],
   "source": [
    "scaler = MinMaxScaler()\n",
    "X = scaler.fit_transform(X)"
   ]
  },
  {
   "cell_type": "code",
   "execution_count": 125,
   "metadata": {},
   "outputs": [
    {
     "data": {
      "text/html": [
       "<div>\n",
       "<style scoped>\n",
       "    .dataframe tbody tr th:only-of-type {\n",
       "        vertical-align: middle;\n",
       "    }\n",
       "\n",
       "    .dataframe tbody tr th {\n",
       "        vertical-align: top;\n",
       "    }\n",
       "\n",
       "    .dataframe thead th {\n",
       "        text-align: right;\n",
       "    }\n",
       "</style>\n",
       "<table border=\"1\" class=\"dataframe\">\n",
       "  <thead>\n",
       "    <tr style=\"text-align: right;\">\n",
       "      <th></th>\n",
       "      <th>0</th>\n",
       "      <th>1</th>\n",
       "      <th>2</th>\n",
       "      <th>3</th>\n",
       "      <th>4</th>\n",
       "      <th>5</th>\n",
       "      <th>6</th>\n",
       "      <th>7</th>\n",
       "      <th>8</th>\n",
       "      <th>9</th>\n",
       "      <th>...</th>\n",
       "      <th>34</th>\n",
       "      <th>35</th>\n",
       "      <th>36</th>\n",
       "      <th>37</th>\n",
       "      <th>38</th>\n",
       "      <th>39</th>\n",
       "      <th>40</th>\n",
       "      <th>41</th>\n",
       "      <th>42</th>\n",
       "      <th>43</th>\n",
       "    </tr>\n",
       "  </thead>\n",
       "  <tbody>\n",
       "    <tr>\n",
       "      <td>0</td>\n",
       "      <td>0.211155</td>\n",
       "      <td>0.567481</td>\n",
       "      <td>0.784314</td>\n",
       "      <td>0.022331</td>\n",
       "      <td>0.019863</td>\n",
       "      <td>0.008941</td>\n",
       "      <td>0.020556</td>\n",
       "      <td>0.539668</td>\n",
       "      <td>0.781837</td>\n",
       "      <td>0.397330</td>\n",
       "      <td>...</td>\n",
       "      <td>0.000401</td>\n",
       "      <td>0.000226</td>\n",
       "      <td>0.000415</td>\n",
       "      <td>0.026153</td>\n",
       "      <td>0.000081</td>\n",
       "      <td>0.000233</td>\n",
       "      <td>0.022173</td>\n",
       "      <td>0.000429</td>\n",
       "      <td>0.026933</td>\n",
       "      <td>0.307266</td>\n",
       "    </tr>\n",
       "    <tr>\n",
       "      <td>1</td>\n",
       "      <td>0.212151</td>\n",
       "      <td>0.565356</td>\n",
       "      <td>0.392157</td>\n",
       "      <td>0.180503</td>\n",
       "      <td>0.171477</td>\n",
       "      <td>0.067210</td>\n",
       "      <td>0.186976</td>\n",
       "      <td>0.538027</td>\n",
       "      <td>0.780817</td>\n",
       "      <td>0.399272</td>\n",
       "      <td>...</td>\n",
       "      <td>0.029449</td>\n",
       "      <td>0.014424</td>\n",
       "      <td>0.032109</td>\n",
       "      <td>0.223886</td>\n",
       "      <td>0.004528</td>\n",
       "      <td>0.015727</td>\n",
       "      <td>0.164946</td>\n",
       "      <td>0.035010</td>\n",
       "      <td>0.242884</td>\n",
       "      <td>0.305506</td>\n",
       "    </tr>\n",
       "    <tr>\n",
       "      <td>2</td>\n",
       "      <td>0.210159</td>\n",
       "      <td>0.564293</td>\n",
       "      <td>1.000000</td>\n",
       "      <td>0.037260</td>\n",
       "      <td>0.029330</td>\n",
       "      <td>0.013818</td>\n",
       "      <td>0.028943</td>\n",
       "      <td>0.466028</td>\n",
       "      <td>0.782858</td>\n",
       "      <td>0.399592</td>\n",
       "      <td>...</td>\n",
       "      <td>0.000869</td>\n",
       "      <td>0.000512</td>\n",
       "      <td>0.000858</td>\n",
       "      <td>0.033591</td>\n",
       "      <td>0.000193</td>\n",
       "      <td>0.000505</td>\n",
       "      <td>0.029778</td>\n",
       "      <td>0.000847</td>\n",
       "      <td>0.032991</td>\n",
       "      <td>0.233234</td>\n",
       "    </tr>\n",
       "    <tr>\n",
       "      <td>3</td>\n",
       "      <td>0.209163</td>\n",
       "      <td>0.564293</td>\n",
       "      <td>1.000000</td>\n",
       "      <td>0.032352</td>\n",
       "      <td>0.036313</td>\n",
       "      <td>0.015555</td>\n",
       "      <td>0.035849</td>\n",
       "      <td>0.354699</td>\n",
       "      <td>0.783878</td>\n",
       "      <td>0.399332</td>\n",
       "      <td>...</td>\n",
       "      <td>0.001329</td>\n",
       "      <td>0.000712</td>\n",
       "      <td>0.001313</td>\n",
       "      <td>0.032304</td>\n",
       "      <td>0.000245</td>\n",
       "      <td>0.000703</td>\n",
       "      <td>0.026047</td>\n",
       "      <td>0.001297</td>\n",
       "      <td>0.031738</td>\n",
       "      <td>0.140575</td>\n",
       "    </tr>\n",
       "    <tr>\n",
       "      <td>4</td>\n",
       "      <td>0.209163</td>\n",
       "      <td>0.564293</td>\n",
       "      <td>1.000000</td>\n",
       "      <td>0.041330</td>\n",
       "      <td>0.043296</td>\n",
       "      <td>0.015752</td>\n",
       "      <td>0.042427</td>\n",
       "      <td>0.230776</td>\n",
       "      <td>0.783878</td>\n",
       "      <td>0.399332</td>\n",
       "      <td>...</td>\n",
       "      <td>0.001887</td>\n",
       "      <td>0.000859</td>\n",
       "      <td>0.001850</td>\n",
       "      <td>0.026226</td>\n",
       "      <td>0.000251</td>\n",
       "      <td>0.000842</td>\n",
       "      <td>0.017972</td>\n",
       "      <td>0.001813</td>\n",
       "      <td>0.025575</td>\n",
       "      <td>0.064708</td>\n",
       "    </tr>\n",
       "  </tbody>\n",
       "</table>\n",
       "<p>5 rows × 44 columns</p>\n",
       "</div>"
      ],
      "text/plain": [
       "         0         1         2         3         4         5         6   \\\n",
       "0  0.211155  0.567481  0.784314  0.022331  0.019863  0.008941  0.020556   \n",
       "1  0.212151  0.565356  0.392157  0.180503  0.171477  0.067210  0.186976   \n",
       "2  0.210159  0.564293  1.000000  0.037260  0.029330  0.013818  0.028943   \n",
       "3  0.209163  0.564293  1.000000  0.032352  0.036313  0.015555  0.035849   \n",
       "4  0.209163  0.564293  1.000000  0.041330  0.043296  0.015752  0.042427   \n",
       "\n",
       "         7         8         9   ...        34        35        36        37  \\\n",
       "0  0.539668  0.781837  0.397330  ...  0.000401  0.000226  0.000415  0.026153   \n",
       "1  0.538027  0.780817  0.399272  ...  0.029449  0.014424  0.032109  0.223886   \n",
       "2  0.466028  0.782858  0.399592  ...  0.000869  0.000512  0.000858  0.033591   \n",
       "3  0.354699  0.783878  0.399332  ...  0.001329  0.000712  0.001313  0.032304   \n",
       "4  0.230776  0.783878  0.399332  ...  0.001887  0.000859  0.001850  0.026226   \n",
       "\n",
       "         38        39        40        41        42        43  \n",
       "0  0.000081  0.000233  0.022173  0.000429  0.026933  0.307266  \n",
       "1  0.004528  0.015727  0.164946  0.035010  0.242884  0.305506  \n",
       "2  0.000193  0.000505  0.029778  0.000847  0.032991  0.233234  \n",
       "3  0.000245  0.000703  0.026047  0.001297  0.031738  0.140575  \n",
       "4  0.000251  0.000842  0.017972  0.001813  0.025575  0.064708  \n",
       "\n",
       "[5 rows x 44 columns]"
      ]
     },
     "execution_count": 125,
     "metadata": {},
     "output_type": "execute_result"
    }
   ],
   "source": [
    "X = pd.DataFrame(X)\n",
    "X.head()"
   ]
  },
  {
   "cell_type": "code",
   "execution_count": 132,
   "metadata": {},
   "outputs": [
    {
     "data": {
      "text/plain": [
       "LinearRegression(copy_X=True, fit_intercept=True, n_jobs=None, normalize=False)"
      ]
     },
     "execution_count": 132,
     "metadata": {},
     "output_type": "execute_result"
    }
   ],
   "source": [
    "X_train, X_test, y_train, y_test = train_test_split(X, y, test_size=0.3, random_state = 3)\n",
    "lr.fit(X_train, y_train)"
   ]
  },
  {
   "cell_type": "code",
   "execution_count": 133,
   "metadata": {},
   "outputs": [
    {
     "name": "stdout",
     "output_type": "stream",
     "text": [
      "훈련 세트 점수: 0.692141050860956\n",
      "테스트 세트 점수: 0.7134732375278927\n"
     ]
    }
   ],
   "source": [
    "print(\"훈련 세트 점수: {}\".format(lr.score(X_train, y_train)))\n",
    "print(\"테스트 세트 점수: {}\".format(lr.score(X_test, y_test)))"
   ]
  },
  {
   "cell_type": "code",
   "execution_count": null,
   "metadata": {},
   "outputs": [],
   "source": [
    "import numpy as np\n",
    "from sklearn.metrics import mean_squared_error\n",
    "\n",
    "y_pred = lr.predict(X_test)\n",
    "np.sqrt(mean_squared_error(y_test, y_pred))"
   ]
  },
  {
   "cell_type": "markdown",
   "metadata": {},
   "source": [
    "## Ridge 알고리즘 사용할 경우"
   ]
  },
  {
   "cell_type": "code",
   "execution_count": 79,
   "metadata": {},
   "outputs": [],
   "source": [
    "from sklearn.linear_model import Ridge # L2"
   ]
  },
  {
   "cell_type": "code",
   "execution_count": 80,
   "metadata": {},
   "outputs": [
    {
     "name": "stdout",
     "output_type": "stream",
     "text": [
      "훈련 세트 점수: 0.69\n",
      "테스트 세트 점수: 0.71\n"
     ]
    }
   ],
   "source": [
    "ridge = Ridge(alpha=0.001).fit(X_train, y_train)\n",
    "print(\"훈련 세트 점수: {:.2f}\".format(ridge.score(X_train, y_train)))\n",
    "print(\"테스트 세트 점수: {:.2f}\".format(ridge.score(X_test, y_test)))"
   ]
  },
  {
   "cell_type": "code",
   "execution_count": null,
   "metadata": {},
   "outputs": [],
   "source": [
    "import numpy as np\n",
    "from sklearn.metrics import mean_squared_error\n",
    "\n",
    "y_pred = lr.predict(X_test)\n",
    "np.sqrt(mean_squared_error(y_test, y_pred))"
   ]
  },
  {
   "cell_type": "markdown",
   "metadata": {},
   "source": [
    "## KNeighborsRegressor 알고리즘 사용할 경우"
   ]
  },
  {
   "cell_type": "code",
   "execution_count": 148,
   "metadata": {},
   "outputs": [],
   "source": []
  },
  {
   "cell_type": "code",
   "execution_count": null,
   "metadata": {},
   "outputs": [],
   "source": []
  },
  {
   "cell_type": "code",
   "execution_count": null,
   "metadata": {},
   "outputs": [],
   "source": []
  },
  {
   "cell_type": "code",
   "execution_count": null,
   "metadata": {},
   "outputs": [],
   "source": []
  }
 ],
 "metadata": {
  "kernelspec": {
   "display_name": "Python 3",
   "language": "python",
   "name": "python3"
  },
  "language_info": {
   "codemirror_mode": {
    "name": "ipython",
    "version": 3
   },
   "file_extension": ".py",
   "mimetype": "text/x-python",
   "name": "python",
   "nbconvert_exporter": "python",
   "pygments_lexer": "ipython3",
   "version": "3.7.4"
  }
 },
 "nbformat": 4,
 "nbformat_minor": 2
}
