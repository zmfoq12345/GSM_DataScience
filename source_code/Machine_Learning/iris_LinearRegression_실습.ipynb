{
 "cells": [
  {
   "cell_type": "code",
   "execution_count": 1,
   "metadata": {},
   "outputs": [],
   "source": [
    "from sklearn.datasets import load_iris"
   ]
  },
  {
   "cell_type": "code",
   "execution_count": 2,
   "metadata": {},
   "outputs": [],
   "source": [
    "iris = load_iris()\n",
    "#sepal 꽃밭침\n",
    "#petal 꽃잎"
   ]
  },
  {
   "cell_type": "markdown",
   "metadata": {},
   "source": [
    "### 꽃받침 길이와 꽂잎 길이를 이용한 선형회귀 실습"
   ]
  },
  {
   "cell_type": "code",
   "execution_count": 3,
   "metadata": {},
   "outputs": [],
   "source": [
    "\"\"\"꽃받침 길이로부터 꽃잎 길이 예측\"\"\"\n",
    "X_all = iris.data\n",
    "X = X_all[:, 0] # 꽃받침 길이\n",
    "y = X_all[:, 2] # 꽃잎 길이"
   ]
  },
  {
   "cell_type": "code",
   "execution_count": 4,
   "metadata": {},
   "outputs": [],
   "source": [
    "from sklearn.model_selection import train_test_split"
   ]
  },
  {
   "cell_type": "code",
   "execution_count": 8,
   "metadata": {},
   "outputs": [],
   "source": [
    "X_train, X_test, y_train, y_test = train_test_split(X, \n",
    "                                                    y,\n",
    "                                                    test_size=0.2, \n",
    "                                                    random_state = 3)"
   ]
  },
  {
   "cell_type": "code",
   "execution_count": 9,
   "metadata": {},
   "outputs": [],
   "source": [
    "import matplotlib.pyplot as plt"
   ]
  },
  {
   "cell_type": "code",
   "execution_count": 10,
   "metadata": {},
   "outputs": [
    {
     "data": {
      "text/plain": [
       "Text(0, 0.5, 'Petal length')"
      ]
     },
     "execution_count": 10,
     "metadata": {},
     "output_type": "execute_result"
    },
    {
     "data": {
      "image/png": "[encoded data removed]",
      "text/plain": [
       "<Figure size 432x288 with 1 Axes>"
      ]
     },
     "metadata": {
      "needs_background": "light"
     },
     "output_type": "display_data"
    }
   ],
   "source": [
    "\"\"\"두 가지 특성 시각화\"\"\"\n",
    "plt.scatter(X_train, y_train, marker='o')\n",
    "plt.xlabel(\"Sepal length\")\n",
    "plt.ylabel(\"Petal length\")"
   ]
  },
  {
   "cell_type": "code",
   "execution_count": 13,
   "metadata": {},
   "outputs": [],
   "source": [
    "from sklearn.linear_model import LinearRegression"
   ]
  },
  {
   "cell_type": "code",
   "execution_count": 15,
   "metadata": {},
   "outputs": [
    {
     "data": {
      "text/plain": [
       "array([5.8, 4.8, 6.9, 6.6, 4.4, 5.2, 6.7, 4.5, 6.4, 6.2, 6.4, 5.8, 4.6,\n",
       "       5.1, 6.1, 6.4, 5.1, 6. , 5.8, 5.4, 4.8, 5. , 5.8, 7. , 6.1, 4.9,\n",
       "       6.3, 5.1, 6.5, 5.7, 5. , 4.8, 6.8, 5.9, 5.4, 4.8, 5.1, 6.4, 6.3,\n",
       "       4.9, 6.7, 5.7, 4.7, 5.1, 7.4, 7.7, 5.8, 5.7, 5.2, 6.3, 5.1, 5.5,\n",
       "       6.4, 6.7, 6.9, 7.1, 5.9, 7.7, 4.8, 6.3, 4.3, 5.7, 6.6, 6.4, 6.2,\n",
       "       5.2, 5.5, 5.4, 6.1, 6.4, 6. , 4.9, 7.2, 5.1, 6.7, 6.1, 6.7, 6.3,\n",
       "       5.6, 6.1, 5.7, 7.6, 5.6, 6.5, 6.5, 5.2, 6. , 6.3, 5. , 5.6, 5.4,\n",
       "       4.9, 5.3, 5.7, 6.3, 5.5, 5. , 6.9, 5. , 6. , 5.9, 6.2, 6.5, 6.5,\n",
       "       5.6, 5.5, 7.2, 5. , 4.7, 5.6, 5.5, 5. , 5. , 6. , 6. , 7.3, 5.1,\n",
       "       5.1, 7.9, 4.9])"
      ]
     },
     "execution_count": 15,
     "metadata": {},
     "output_type": "execute_result"
    }
   ],
   "source": [
    "X_train # 1차원 데이터"
   ]
  },
  {
   "cell_type": "code",
   "execution_count": 21,
   "metadata": {},
   "outputs": [
    {
     "data": {
      "text/plain": [
       "array([[5.8],\n",
       "       [4.8],\n",
       "       [6.9],\n",
       "       [6.6],\n",
       "       [4.4],\n",
       "       [5.2],\n",
       "       [6.7],\n",
       "       [4.5],\n",
       "       [6.4],\n",
       "       [6.2],\n",
       "       [6.4],\n",
       "       [5.8],\n",
       "       [4.6],\n",
       "       [5.1],\n",
       "       [6.1],\n",
       "       [6.4],\n",
       "       [5.1],\n",
       "       [6. ],\n",
       "       [5.8],\n",
       "       [5.4],\n",
       "       [4.8],\n",
       "       [5. ],\n",
       "       [5.8],\n",
       "       [7. ],\n",
       "       [6.1],\n",
       "       [4.9],\n",
       "       [6.3],\n",
       "       [5.1],\n",
       "       [6.5],\n",
       "       [5.7],\n",
       "       [5. ],\n",
       "       [4.8],\n",
       "       [6.8],\n",
       "       [5.9],\n",
       "       [5.4],\n",
       "       [4.8],\n",
       "       [5.1],\n",
       "       [6.4],\n",
       "       [6.3],\n",
       "       [4.9],\n",
       "       [6.7],\n",
       "       [5.7],\n",
       "       [4.7],\n",
       "       [5.1],\n",
       "       [7.4],\n",
       "       [7.7],\n",
       "       [5.8],\n",
       "       [5.7],\n",
       "       [5.2],\n",
       "       [6.3],\n",
       "       [5.1],\n",
       "       [5.5],\n",
       "       [6.4],\n",
       "       [6.7],\n",
       "       [6.9],\n",
       "       [7.1],\n",
       "       [5.9],\n",
       "       [7.7],\n",
       "       [4.8],\n",
       "       [6.3],\n",
       "       [4.3],\n",
       "       [5.7],\n",
       "       [6.6],\n",
       "       [6.4],\n",
       "       [6.2],\n",
       "       [5.2],\n",
       "       [5.5],\n",
       "       [5.4],\n",
       "       [6.1],\n",
       "       [6.4],\n",
       "       [6. ],\n",
       "       [4.9],\n",
       "       [7.2],\n",
       "       [5.1],\n",
       "       [6.7],\n",
       "       [6.1],\n",
       "       [6.7],\n",
       "       [6.3],\n",
       "       [5.6],\n",
       "       [6.1],\n",
       "       [5.7],\n",
       "       [7.6],\n",
       "       [5.6],\n",
       "       [6.5],\n",
       "       [6.5],\n",
       "       [5.2],\n",
       "       [6. ],\n",
       "       [6.3],\n",
       "       [5. ],\n",
       "       [5.6],\n",
       "       [5.4],\n",
       "       [4.9],\n",
       "       [5.3],\n",
       "       [5.7],\n",
       "       [6.3],\n",
       "       [5.5],\n",
       "       [5. ],\n",
       "       [6.9],\n",
       "       [5. ],\n",
       "       [6. ],\n",
       "       [5.9],\n",
       "       [6.2],\n",
       "       [6.5],\n",
       "       [6.5],\n",
       "       [5.6],\n",
       "       [5.5],\n",
       "       [7.2],\n",
       "       [5. ],\n",
       "       [4.7],\n",
       "       [5.6],\n",
       "       [5.5],\n",
       "       [5. ],\n",
       "       [5. ],\n",
       "       [6. ],\n",
       "       [6. ],\n",
       "       [7.3],\n",
       "       [5.1],\n",
       "       [5.1],\n",
       "       [7.9],\n",
       "       [4.9]])"
      ]
     },
     "execution_count": 21,
     "metadata": {},
     "output_type": "execute_result"
    }
   ],
   "source": [
    "X_train.reshape(-1,1) # 1차원 -> 2차원"
   ]
  },
  {
   "cell_type": "code",
   "execution_count": 22,
   "metadata": {},
   "outputs": [
    {
     "data": {
      "text/plain": [
       "LinearRegression(copy_X=True, fit_intercept=True, n_jobs=None, normalize=False)"
      ]
     },
     "execution_count": 22,
     "metadata": {},
     "output_type": "execute_result"
    }
   ],
   "source": [
    "model = LinearRegression()\n",
    "model.fit(X_train.reshape(-1, 1), y_train)"
   ]
  },
  {
   "cell_type": "code",
   "execution_count": 23,
   "metadata": {},
   "outputs": [
    {
     "name": "stdout",
     "output_type": "stream",
     "text": [
      "훈련점수 : 0.758\n",
      "테스트점수 : 0.765\n"
     ]
    }
   ],
   "source": [
    "print(\"훈련점수 : {:.3f}\".format(model.score(X_train.reshape(-1,1), y_train)))\n",
    "print(\"테스트점수 : {:.3f}\".format(model.score(X_test.reshape(-1,1), y_test)))"
   ]
  },
  {
   "cell_type": "code",
   "execution_count": 24,
   "metadata": {},
   "outputs": [
    {
     "data": {
      "text/plain": [
       "(array([1.91783306]), -7.440350495408607)"
      ]
     },
     "execution_count": 24,
     "metadata": {},
     "output_type": "execute_result"
    }
   ],
   "source": [
    "\"\"\"계수(가중치)와 절편\"\"\"\n",
    "w = model.coef_\n",
    "b = model.intercept_\n",
    "w,b"
   ]
  },
  {
   "cell_type": "code",
   "execution_count": 26,
   "metadata": {},
   "outputs": [
    {
     "data": {
      "text/plain": [
       "array([-5.52251743])"
      ]
     },
     "execution_count": 26,
     "metadata": {},
     "output_type": "execute_result"
    }
   ],
   "source": [
    "model.predict([[1]])  # y = 1.91...x - 7.44..."
   ]
  },
  {
   "cell_type": "code",
   "execution_count": 29,
   "metadata": {},
   "outputs": [
    {
     "data": {
      "text/plain": [
       "array([-3.60468437])"
      ]
     },
     "execution_count": 29,
     "metadata": {},
     "output_type": "execute_result"
    }
   ],
   "source": [
    "model.predict([[2]])"
   ]
  },
  {
   "cell_type": "code",
   "execution_count": 27,
   "metadata": {},
   "outputs": [],
   "source": [
    "import numpy as np"
   ]
  },
  {
   "cell_type": "code",
   "execution_count": 43,
   "metadata": {},
   "outputs": [
    {
     "data": {
      "text/plain": [
       "[<matplotlib.lines.Line2D at 0x1f0eb182688>]"
      ]
     },
     "execution_count": 43,
     "metadata": {},
     "output_type": "execute_result"
    },
    {
     "data": {
      "image/png": "[encoded data removed]",
      "text/plain": [
       "<Figure size 432x288 with 1 Axes>"
      ]
     },
     "metadata": {
      "needs_background": "light"
     },
     "output_type": "display_data"
    }
   ],
   "source": [
    "plt.scatter(X_train, y_train, marker='o')\n",
    "plt.xlabel(\"Sepal length\")\n",
    "plt.ylabel(\"Petal length\")\n",
    "x_data = [4,8]\n",
    "plt.plot(x_data, w*x_data+b)"
   ]
  },
  {
   "cell_type": "markdown",
   "metadata": {},
   "source": [
    "### 꽃잎길이와 꽃잎너비 선형회귀 실습"
   ]
  },
  {
   "cell_type": "code",
   "execution_count": 44,
   "metadata": {},
   "outputs": [],
   "source": [
    "X2 = X_all[:, 2]\n",
    "y2 = X_all[:, 3]"
   ]
  },
  {
   "cell_type": "code",
   "execution_count": 45,
   "metadata": {},
   "outputs": [],
   "source": [
    "# 학습용 데이터와 테스트용 데이터로 나누자\n",
    "X_train2, X_test2, y_train2, y_test2 = train_test_split(X2, y2, test_size=0.2, random_state = 92)"
   ]
  },
  {
   "cell_type": "code",
   "execution_count": 46,
   "metadata": {},
   "outputs": [
    {
     "data": {
      "text/plain": [
       "Text(0, 0.5, 'Petal width')"
      ]
     },
     "execution_count": 46,
     "metadata": {},
     "output_type": "execute_result"
    },
    {
     "data": {
      "image/png": "[encoded data removed]",
      "text/plain": [
       "<Figure size 432x288 with 1 Axes>"
      ]
     },
     "metadata": {
      "needs_background": "light"
     },
     "output_type": "display_data"
    }
   ],
   "source": [
    "#두 가지 특성을 시각화 하자\n",
    "plt.scatter(X_train2, y_train2, marker='o')\n",
    "plt.xlabel(\"Petal length\")\n",
    "plt.ylabel(\"Petal width\")"
   ]
  },
  {
   "cell_type": "code",
   "execution_count": 49,
   "metadata": {},
   "outputs": [
    {
     "name": "stdout",
     "output_type": "stream",
     "text": [
      "Score : 0.950\n"
     ]
    }
   ],
   "source": [
    "linr2=LinearRegression()\n",
    "# 2차원 X_train 데이터를 넣어줘야하기 때문에 reshape\n",
    "linr2.fit(X_train2.reshape(-1,1), y_train2)\n",
    "print(\"Score : {:.3f}\".format(linr2.score(X_test2.reshape(-1,1), y_test2)))"
   ]
  },
  {
   "cell_type": "code",
   "execution_count": 53,
   "metadata": {},
   "outputs": [
    {
     "data": {
      "text/plain": [
       "<matplotlib.collections.PathCollection at 0x1f0eb46a748>"
      ]
     },
     "execution_count": 53,
     "metadata": {},
     "output_type": "execute_result"
    },
    {
     "data": {
      "image/png": "[encoded data removed]",
      "text/plain": [
       "<Figure size 432x288 with 1 Axes>"
      ]
     },
     "metadata": {
      "needs_background": "light"
     },
     "output_type": "display_data"
    }
   ],
   "source": [
    "plt.scatter(X_train2, y_train2, marker='o')\n",
    "plt.xlabel(\"Petal length\")\n",
    "plt.ylabel(\"Petal width\")\n",
    "XX = np.linspace(1, 8, 200)\n",
    "plt.scatter(x=XX, y=(linr2.coef_ * XX + linr2.intercept_), marker= '.', color='r')"
   ]
  },
  {
   "cell_type": "code",
   "execution_count": 55,
   "metadata": {
    "collapsed": true
   },
   "outputs": [],
   "source": [
    "model = LinearRegression()"
   ]
  },
  {
   "cell_type": "code",
   "execution_count": 58,
   "metadata": {},
   "outputs": [
    {
     "data": {
      "text/plain": [
       "LinearRegression(copy_X=True, fit_intercept=True, n_jobs=1, normalize=False)"
      ]
     },
     "execution_count": 58,
     "metadata": {},
     "output_type": "execute_result"
    }
   ],
   "source": [
    "model.fit(X_train2.reshape(-1,1), y_train2)"
   ]
  },
  {
   "cell_type": "code",
   "execution_count": 60,
   "metadata": {},
   "outputs": [
    {
     "data": {
      "text/plain": [
       "array([0.151, 0.108, 0.277, 1.499, 1.921, 2.09 , 1.668, 1.752, 0.277,\n",
       "       1.373, 0.066, 2.3  , 1.626, 2.427, 1.626, 1.499, 1.668, 0.235,\n",
       "       1.331, 0.235, 0.151, 0.024, 0.867, 0.193, 2.005, 1.963, 1.457,\n",
       "       1.415, 0.319, 0.319])"
      ]
     },
     "execution_count": 60,
     "metadata": {},
     "output_type": "execute_result"
    }
   ],
   "source": [
    "model.predict(X_test2.reshape(-1, 1))"
   ]
  },
  {
   "cell_type": "code",
   "execution_count": 62,
   "metadata": {},
   "outputs": [
    {
     "data": {
      "text/plain": [
       "0.9499184573796147"
      ]
     },
     "execution_count": 62,
     "metadata": {},
     "output_type": "execute_result"
    }
   ],
   "source": [
    "model.score(X_test2.reshape(-1, 1), y_test2)"
   ]
  }
 ],
 "metadata": {
  "kernelspec": {
   "display_name": "Python 3",
   "language": "python",
   "name": "python3"
  },
  "language_info": {
   "codemirror_mode": {
    "name": "ipython",
    "version": 3
   },
   "file_extension": ".py",
   "mimetype": "text/x-python",
   "name": "python",
   "nbconvert_exporter": "python",
   "pygments_lexer": "ipython3",
   "version": "3.7.4"
  }
 },
 "nbformat": 4,
 "nbformat_minor": 2
}
