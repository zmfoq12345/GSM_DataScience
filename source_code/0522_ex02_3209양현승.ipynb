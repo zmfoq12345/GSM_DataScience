{
 "cells": [
  {
   "cell_type": "code",
   "execution_count": 32,
   "metadata": {},
   "outputs": [
    {
     "data": {
      "text/html": [
       "<div>\n",
       "<style scoped>\n",
       "    .dataframe tbody tr th:only-of-type {\n",
       "        vertical-align: middle;\n",
       "    }\n",
       "\n",
       "    .dataframe tbody tr th {\n",
       "        vertical-align: top;\n",
       "    }\n",
       "\n",
       "    .dataframe thead th {\n",
       "        text-align: right;\n",
       "    }\n",
       "</style>\n",
       "<table border=\"1\" class=\"dataframe\">\n",
       "  <thead>\n",
       "    <tr style=\"text-align: right;\">\n",
       "      <th></th>\n",
       "      <th>Unnamed: 0</th>\n",
       "      <th>id</th>\n",
       "      <th>제목</th>\n",
       "      <th>제안분야</th>\n",
       "      <th>제안시작</th>\n",
       "      <th>제안마감</th>\n",
       "      <th>투표수</th>\n",
       "      <th>제안인</th>\n",
       "    </tr>\n",
       "  </thead>\n",
       "  <tbody>\n",
       "    <tr>\n",
       "      <td>0</td>\n",
       "      <td>0</td>\n",
       "      <td>280</td>\n",
       "      <td>행정기관 소속 위원회 위원 개인정보 및 안건 공개 기준에 관한 법적 근거 마련</td>\n",
       "      <td>일반행정</td>\n",
       "      <td>2019.10.16</td>\n",
       "      <td>2020.01.13</td>\n",
       "      <td>0</td>\n",
       "      <td>법제혁신</td>\n",
       "    </tr>\n",
       "    <tr>\n",
       "      <td>1</td>\n",
       "      <td>1</td>\n",
       "      <td>279</td>\n",
       "      <td>초과근무 줄이기!</td>\n",
       "      <td>일반행정</td>\n",
       "      <td>2019.10.16</td>\n",
       "      <td>2020.01.13</td>\n",
       "      <td>2</td>\n",
       "      <td>ㅁㄴㅁ</td>\n",
       "    </tr>\n",
       "    <tr>\n",
       "      <td>2</td>\n",
       "      <td>2</td>\n",
       "      <td>278</td>\n",
       "      <td>원스톱 의원요구자료 제출 시스템 구축</td>\n",
       "      <td>일반행정</td>\n",
       "      <td>2019.10.15</td>\n",
       "      <td>2020.01.12</td>\n",
       "      <td>0</td>\n",
       "      <td>연시랑</td>\n",
       "    </tr>\n",
       "    <tr>\n",
       "      <td>3</td>\n",
       "      <td>3</td>\n",
       "      <td>277</td>\n",
       "      <td>예산을 공평하게 분배</td>\n",
       "      <td>사회통합</td>\n",
       "      <td>2019.10.15</td>\n",
       "      <td>2020.01.12</td>\n",
       "      <td>3</td>\n",
       "      <td>슈퍼맨119</td>\n",
       "    </tr>\n",
       "    <tr>\n",
       "      <td>4</td>\n",
       "      <td>4</td>\n",
       "      <td>276</td>\n",
       "      <td>공무원 인트라넷 통합메신저</td>\n",
       "      <td>일반행정</td>\n",
       "      <td>2019.10.15</td>\n",
       "      <td>2020.01.12</td>\n",
       "      <td>0</td>\n",
       "      <td>페이소스</td>\n",
       "    </tr>\n",
       "  </tbody>\n",
       "</table>\n",
       "</div>"
      ],
      "text/plain": [
       "   Unnamed: 0   id                                           제목  제안분야  \\\n",
       "0           0  280  행정기관 소속 위원회 위원 개인정보 및 안건 공개 기준에 관한 법적 근거 마련  일반행정   \n",
       "1           1  279                                    초과근무 줄이기!  일반행정   \n",
       "2           2  278                         원스톱 의원요구자료 제출 시스템 구축  일반행정   \n",
       "3           3  277                                  예산을 공평하게 분배  사회통합   \n",
       "4           4  276                               공무원 인트라넷 통합메신저  일반행정   \n",
       "\n",
       "         제안시작        제안마감  투표수     제안인  \n",
       "0  2019.10.16  2020.01.13    0    법제혁신  \n",
       "1  2019.10.16  2020.01.13    2     ㅁㄴㅁ  \n",
       "2  2019.10.15  2020.01.12    0     연시랑  \n",
       "3  2019.10.15  2020.01.12    3  슈퍼맨119  \n",
       "4  2019.10.15  2020.01.12    0    페이소스  "
      ]
     },
     "execution_count": 32,
     "metadata": {},
     "output_type": "execute_result"
    }
   ],
   "source": [
    "import pandas as pd\n",
    "import numpy as np\n",
    "\n",
    "df = pd.read_csv('../data/suggestion.csv', encoding='utf-8')\n",
    "df.head()"
   ]
  },
  {
   "cell_type": "code",
   "execution_count": 33,
   "metadata": {},
   "outputs": [
    {
     "name": "stdout",
     "output_type": "stream",
     "text": [
      "<class 'pandas.core.frame.DataFrame'>\n",
      "RangeIndex: 15 entries, 0 to 14\n",
      "Data columns (total 8 columns):\n",
      "Unnamed: 0    15 non-null int64\n",
      "id            15 non-null int64\n",
      "제목            15 non-null object\n",
      "제안분야          15 non-null object\n",
      "제안시작          15 non-null object\n",
      "제안마감          15 non-null object\n",
      "투표수           15 non-null int64\n",
      "제안인           15 non-null object\n",
      "dtypes: int64(3), object(5)\n",
      "memory usage: 1.1+ KB\n"
     ]
    },
    {
     "data": {
      "text/html": [
       "<div>\n",
       "<style scoped>\n",
       "    .dataframe tbody tr th:only-of-type {\n",
       "        vertical-align: middle;\n",
       "    }\n",
       "\n",
       "    .dataframe tbody tr th {\n",
       "        vertical-align: top;\n",
       "    }\n",
       "\n",
       "    .dataframe thead th {\n",
       "        text-align: right;\n",
       "    }\n",
       "</style>\n",
       "<table border=\"1\" class=\"dataframe\">\n",
       "  <thead>\n",
       "    <tr style=\"text-align: right;\">\n",
       "      <th></th>\n",
       "      <th>Unnamed: 0</th>\n",
       "      <th>id</th>\n",
       "      <th>투표수</th>\n",
       "    </tr>\n",
       "  </thead>\n",
       "  <tbody>\n",
       "    <tr>\n",
       "      <td>count</td>\n",
       "      <td>15.000000</td>\n",
       "      <td>15.000000</td>\n",
       "      <td>15.000000</td>\n",
       "    </tr>\n",
       "    <tr>\n",
       "      <td>mean</td>\n",
       "      <td>7.000000</td>\n",
       "      <td>276.133333</td>\n",
       "      <td>2.466667</td>\n",
       "    </tr>\n",
       "    <tr>\n",
       "      <td>std</td>\n",
       "      <td>4.472136</td>\n",
       "      <td>3.181793</td>\n",
       "      <td>2.774029</td>\n",
       "    </tr>\n",
       "    <tr>\n",
       "      <td>min</td>\n",
       "      <td>0.000000</td>\n",
       "      <td>270.000000</td>\n",
       "      <td>0.000000</td>\n",
       "    </tr>\n",
       "    <tr>\n",
       "      <td>25%</td>\n",
       "      <td>3.500000</td>\n",
       "      <td>274.500000</td>\n",
       "      <td>0.000000</td>\n",
       "    </tr>\n",
       "    <tr>\n",
       "      <td>50%</td>\n",
       "      <td>7.000000</td>\n",
       "      <td>277.000000</td>\n",
       "      <td>2.000000</td>\n",
       "    </tr>\n",
       "    <tr>\n",
       "      <td>75%</td>\n",
       "      <td>10.500000</td>\n",
       "      <td>278.500000</td>\n",
       "      <td>3.500000</td>\n",
       "    </tr>\n",
       "    <tr>\n",
       "      <td>max</td>\n",
       "      <td>14.000000</td>\n",
       "      <td>280.000000</td>\n",
       "      <td>9.000000</td>\n",
       "    </tr>\n",
       "  </tbody>\n",
       "</table>\n",
       "</div>"
      ],
      "text/plain": [
       "       Unnamed: 0          id        투표수\n",
       "count   15.000000   15.000000  15.000000\n",
       "mean     7.000000  276.133333   2.466667\n",
       "std      4.472136    3.181793   2.774029\n",
       "min      0.000000  270.000000   0.000000\n",
       "25%      3.500000  274.500000   0.000000\n",
       "50%      7.000000  277.000000   2.000000\n",
       "75%     10.500000  278.500000   3.500000\n",
       "max     14.000000  280.000000   9.000000"
      ]
     },
     "execution_count": 33,
     "metadata": {},
     "output_type": "execute_result"
    }
   ],
   "source": [
    "df.info()\n",
    "df.describe()"
   ]
  },
  {
   "cell_type": "code",
   "execution_count": 34,
   "metadata": {},
   "outputs": [
    {
     "data": {
      "text/html": [
       "<div>\n",
       "<style scoped>\n",
       "    .dataframe tbody tr th:only-of-type {\n",
       "        vertical-align: middle;\n",
       "    }\n",
       "\n",
       "    .dataframe tbody tr th {\n",
       "        vertical-align: top;\n",
       "    }\n",
       "\n",
       "    .dataframe thead th {\n",
       "        text-align: right;\n",
       "    }\n",
       "</style>\n",
       "<table border=\"1\" class=\"dataframe\">\n",
       "  <thead>\n",
       "    <tr style=\"text-align: right;\">\n",
       "      <th></th>\n",
       "      <th>id</th>\n",
       "      <th>제목</th>\n",
       "      <th>제안분야</th>\n",
       "      <th>제안시작</th>\n",
       "      <th>제안마감</th>\n",
       "      <th>투표수</th>\n",
       "      <th>제안인</th>\n",
       "    </tr>\n",
       "  </thead>\n",
       "  <tbody>\n",
       "    <tr>\n",
       "      <td>0</td>\n",
       "      <td>280</td>\n",
       "      <td>행정기관 소속 위원회 위원 개인정보 및 안건 공개 기준에 관한 법적 근거 마련</td>\n",
       "      <td>일반행정</td>\n",
       "      <td>2019.10.16</td>\n",
       "      <td>2020.01.13</td>\n",
       "      <td>0</td>\n",
       "      <td>법제혁신</td>\n",
       "    </tr>\n",
       "    <tr>\n",
       "      <td>1</td>\n",
       "      <td>279</td>\n",
       "      <td>초과근무 줄이기!</td>\n",
       "      <td>일반행정</td>\n",
       "      <td>2019.10.16</td>\n",
       "      <td>2020.01.13</td>\n",
       "      <td>2</td>\n",
       "      <td>ㅁㄴㅁ</td>\n",
       "    </tr>\n",
       "    <tr>\n",
       "      <td>2</td>\n",
       "      <td>278</td>\n",
       "      <td>원스톱 의원요구자료 제출 시스템 구축</td>\n",
       "      <td>일반행정</td>\n",
       "      <td>2019.10.15</td>\n",
       "      <td>2020.01.12</td>\n",
       "      <td>0</td>\n",
       "      <td>연시랑</td>\n",
       "    </tr>\n",
       "    <tr>\n",
       "      <td>3</td>\n",
       "      <td>277</td>\n",
       "      <td>예산을 공평하게 분배</td>\n",
       "      <td>사회통합</td>\n",
       "      <td>2019.10.15</td>\n",
       "      <td>2020.01.12</td>\n",
       "      <td>3</td>\n",
       "      <td>슈퍼맨119</td>\n",
       "    </tr>\n",
       "    <tr>\n",
       "      <td>4</td>\n",
       "      <td>276</td>\n",
       "      <td>공무원 인트라넷 통합메신저</td>\n",
       "      <td>일반행정</td>\n",
       "      <td>2019.10.15</td>\n",
       "      <td>2020.01.12</td>\n",
       "      <td>0</td>\n",
       "      <td>페이소스</td>\n",
       "    </tr>\n",
       "  </tbody>\n",
       "</table>\n",
       "</div>"
      ],
      "text/plain": [
       "    id                                           제목  제안분야        제안시작  \\\n",
       "0  280  행정기관 소속 위원회 위원 개인정보 및 안건 공개 기준에 관한 법적 근거 마련  일반행정  2019.10.16   \n",
       "1  279                                    초과근무 줄이기!  일반행정  2019.10.16   \n",
       "2  278                         원스톱 의원요구자료 제출 시스템 구축  일반행정  2019.10.15   \n",
       "3  277                                  예산을 공평하게 분배  사회통합  2019.10.15   \n",
       "4  276                               공무원 인트라넷 통합메신저  일반행정  2019.10.15   \n",
       "\n",
       "         제안마감  투표수     제안인  \n",
       "0  2020.01.13    0    법제혁신  \n",
       "1  2020.01.13    2     ㅁㄴㅁ  \n",
       "2  2020.01.12    0     연시랑  \n",
       "3  2020.01.12    3  슈퍼맨119  \n",
       "4  2020.01.12    0    페이소스  "
      ]
     },
     "execution_count": 34,
     "metadata": {},
     "output_type": "execute_result"
    }
   ],
   "source": [
    "# 칼럼 삭제\n",
    "# del df['Unnamed: 0']      \n",
    "# df.drop('Unnamed: 0', inplace=True, axis=1) \n",
    "\n",
    "# 로우 삭제\n",
    "# df.drop ([0], inplace=True)\n",
    "\n",
    "\n",
    "df.head()"
   ]
  },
  {
   "cell_type": "code",
   "execution_count": 35,
   "metadata": {},
   "outputs": [
    {
     "data": {
      "text/html": [
       "<div>\n",
       "<style scoped>\n",
       "    .dataframe tbody tr th:only-of-type {\n",
       "        vertical-align: middle;\n",
       "    }\n",
       "\n",
       "    .dataframe tbody tr th {\n",
       "        vertical-align: top;\n",
       "    }\n",
       "\n",
       "    .dataframe thead th {\n",
       "        text-align: right;\n",
       "    }\n",
       "</style>\n",
       "<table border=\"1\" class=\"dataframe\">\n",
       "  <thead>\n",
       "    <tr style=\"text-align: right;\">\n",
       "      <th></th>\n",
       "      <th>제목</th>\n",
       "      <th>제안분야</th>\n",
       "      <th>제안시작</th>\n",
       "      <th>제안마감</th>\n",
       "      <th>투표수</th>\n",
       "      <th>제안인</th>\n",
       "    </tr>\n",
       "    <tr>\n",
       "      <th>id</th>\n",
       "      <th></th>\n",
       "      <th></th>\n",
       "      <th></th>\n",
       "      <th></th>\n",
       "      <th></th>\n",
       "      <th></th>\n",
       "    </tr>\n",
       "  </thead>\n",
       "  <tbody>\n",
       "    <tr>\n",
       "      <td>280</td>\n",
       "      <td>행정기관 소속 위원회 위원 개인정보 및 안건 공개 기준에 관한 법적 근거 마련</td>\n",
       "      <td>일반행정</td>\n",
       "      <td>2019.10.16</td>\n",
       "      <td>2020.01.13</td>\n",
       "      <td>0</td>\n",
       "      <td>법제혁신</td>\n",
       "    </tr>\n",
       "    <tr>\n",
       "      <td>279</td>\n",
       "      <td>초과근무 줄이기!</td>\n",
       "      <td>일반행정</td>\n",
       "      <td>2019.10.16</td>\n",
       "      <td>2020.01.13</td>\n",
       "      <td>2</td>\n",
       "      <td>ㅁㄴㅁ</td>\n",
       "    </tr>\n",
       "    <tr>\n",
       "      <td>278</td>\n",
       "      <td>원스톱 의원요구자료 제출 시스템 구축</td>\n",
       "      <td>일반행정</td>\n",
       "      <td>2019.10.15</td>\n",
       "      <td>2020.01.12</td>\n",
       "      <td>0</td>\n",
       "      <td>연시랑</td>\n",
       "    </tr>\n",
       "    <tr>\n",
       "      <td>277</td>\n",
       "      <td>예산을 공평하게 분배</td>\n",
       "      <td>사회통합</td>\n",
       "      <td>2019.10.15</td>\n",
       "      <td>2020.01.12</td>\n",
       "      <td>3</td>\n",
       "      <td>슈퍼맨119</td>\n",
       "    </tr>\n",
       "    <tr>\n",
       "      <td>276</td>\n",
       "      <td>공무원 인트라넷 통합메신저</td>\n",
       "      <td>일반행정</td>\n",
       "      <td>2019.10.15</td>\n",
       "      <td>2020.01.12</td>\n",
       "      <td>0</td>\n",
       "      <td>페이소스</td>\n",
       "    </tr>\n",
       "  </tbody>\n",
       "</table>\n",
       "</div>"
      ],
      "text/plain": [
       "                                              제목  제안분야        제안시작  \\\n",
       "id                                                                   \n",
       "280  행정기관 소속 위원회 위원 개인정보 및 안건 공개 기준에 관한 법적 근거 마련  일반행정  2019.10.16   \n",
       "279                                    초과근무 줄이기!  일반행정  2019.10.16   \n",
       "278                         원스톱 의원요구자료 제출 시스템 구축  일반행정  2019.10.15   \n",
       "277                                  예산을 공평하게 분배  사회통합  2019.10.15   \n",
       "276                               공무원 인트라넷 통합메신저  일반행정  2019.10.15   \n",
       "\n",
       "           제안마감  투표수     제안인  \n",
       "id                            \n",
       "280  2020.01.13    0    법제혁신  \n",
       "279  2020.01.13    2     ㅁㄴㅁ  \n",
       "278  2020.01.12    0     연시랑  \n",
       "277  2020.01.12    3  슈퍼맨119  \n",
       "276  2020.01.12    0    페이소스  "
      ]
     },
     "execution_count": 35,
     "metadata": {},
     "output_type": "execute_result"
    }
   ],
   "source": [
    "df.set_index('id', inplace=True) # 인덱스의 첫 번째를 id로\n",
    "df.head()"
   ]
  },
  {
   "cell_type": "code",
   "execution_count": 37,
   "metadata": {},
   "outputs": [
    {
     "data": {
      "text/plain": [
       "0    행정기관 소속 위원회 위원 개인정보 및 안건 공개 기준에 관한 법적 근거 마련\n",
       "1                                      초과근무 줄이기!\n",
       "2                           원스톱 의원요구자료 제출 시스템 구축\n",
       "3                                    예산을 공평하게 분배\n",
       "4                                 공무원 인트라넷 통합메신저\n",
       "Name: 제목, dtype: object"
      ]
     },
     "execution_count": 37,
     "metadata": {},
     "output_type": "execute_result"
    }
   ],
   "source": [
    "df['제목'].head()  # Series 객체로 반환"
   ]
  },
  {
   "cell_type": "code",
   "execution_count": 38,
   "metadata": {},
   "outputs": [
    {
     "data": {
      "text/plain": [
       "일반행정    9\n",
       "사회통합    2\n",
       "공동체     2\n",
       "안전      1\n",
       "보건복지    1\n",
       "Name: 제안분야, dtype: int64"
      ]
     },
     "execution_count": 38,
     "metadata": {},
     "output_type": "execute_result"
    }
   ],
   "source": [
    "# value_counts : Series 객체에서 해당 칼럼값의 유형, 건수들을 반환, 건수가 많은 순서대로 반환\n",
    "df['제안분야'].value_counts() "
   ]
  },
  {
   "cell_type": "code",
   "execution_count": 39,
   "metadata": {},
   "outputs": [
    {
     "data": {
      "text/html": [
       "<div>\n",
       "<style scoped>\n",
       "    .dataframe tbody tr th:only-of-type {\n",
       "        vertical-align: middle;\n",
       "    }\n",
       "\n",
       "    .dataframe tbody tr th {\n",
       "        vertical-align: top;\n",
       "    }\n",
       "\n",
       "    .dataframe thead th {\n",
       "        text-align: right;\n",
       "    }\n",
       "</style>\n",
       "<table border=\"1\" class=\"dataframe\">\n",
       "  <thead>\n",
       "    <tr style=\"text-align: right;\">\n",
       "      <th></th>\n",
       "      <th>Unnamed: 0</th>\n",
       "      <th>id</th>\n",
       "      <th>제목</th>\n",
       "      <th>제안분야</th>\n",
       "      <th>제안시작</th>\n",
       "      <th>제안마감</th>\n",
       "      <th>투표수</th>\n",
       "      <th>제안인</th>\n",
       "    </tr>\n",
       "  </thead>\n",
       "  <tbody>\n",
       "    <tr>\n",
       "      <td>0</td>\n",
       "      <td>0</td>\n",
       "      <td>280</td>\n",
       "      <td>행정기관 소속 위원회 위원 개인정보 및 안건 공개 기준에 관한 법적 근거 마련</td>\n",
       "      <td>일반행정</td>\n",
       "      <td>2019.10.16</td>\n",
       "      <td>2020.01.13</td>\n",
       "      <td>0</td>\n",
       "      <td>법제혁신</td>\n",
       "    </tr>\n",
       "    <tr>\n",
       "      <td>1</td>\n",
       "      <td>1</td>\n",
       "      <td>279</td>\n",
       "      <td>초과근무 줄이기!</td>\n",
       "      <td>일반행정</td>\n",
       "      <td>2019.10.16</td>\n",
       "      <td>2020.01.13</td>\n",
       "      <td>2</td>\n",
       "      <td>ㅁㄴㅁ</td>\n",
       "    </tr>\n",
       "    <tr>\n",
       "      <td>2</td>\n",
       "      <td>2</td>\n",
       "      <td>278</td>\n",
       "      <td>원스톱 의원요구자료 제출 시스템 구축</td>\n",
       "      <td>일반행정</td>\n",
       "      <td>2019.10.15</td>\n",
       "      <td>2020.01.12</td>\n",
       "      <td>0</td>\n",
       "      <td>연시랑</td>\n",
       "    </tr>\n",
       "    <tr>\n",
       "      <td>3</td>\n",
       "      <td>3</td>\n",
       "      <td>277</td>\n",
       "      <td>예산을 공평하게 분배</td>\n",
       "      <td>사회통합</td>\n",
       "      <td>2019.10.15</td>\n",
       "      <td>2020.01.12</td>\n",
       "      <td>3</td>\n",
       "      <td>슈퍼맨119</td>\n",
       "    </tr>\n",
       "    <tr>\n",
       "      <td>4</td>\n",
       "      <td>4</td>\n",
       "      <td>276</td>\n",
       "      <td>공무원 인트라넷 통합메신저</td>\n",
       "      <td>일반행정</td>\n",
       "      <td>2019.10.15</td>\n",
       "      <td>2020.01.12</td>\n",
       "      <td>0</td>\n",
       "      <td>페이소스</td>\n",
       "    </tr>\n",
       "  </tbody>\n",
       "</table>\n",
       "</div>"
      ],
      "text/plain": [
       "   Unnamed: 0   id                                           제목  제안분야  \\\n",
       "0           0  280  행정기관 소속 위원회 위원 개인정보 및 안건 공개 기준에 관한 법적 근거 마련  일반행정   \n",
       "1           1  279                                    초과근무 줄이기!  일반행정   \n",
       "2           2  278                         원스톱 의원요구자료 제출 시스템 구축  일반행정   \n",
       "3           3  277                                  예산을 공평하게 분배  사회통합   \n",
       "4           4  276                               공무원 인트라넷 통합메신저  일반행정   \n",
       "\n",
       "         제안시작        제안마감  투표수     제안인  \n",
       "0  2019.10.16  2020.01.13    0    법제혁신  \n",
       "1  2019.10.16  2020.01.13    2     ㅁㄴㅁ  \n",
       "2  2019.10.15  2020.01.12    0     연시랑  \n",
       "3  2019.10.15  2020.01.12    3  슈퍼맨119  \n",
       "4  2019.10.15  2020.01.12    0    페이소스  "
      ]
     },
     "execution_count": 39,
     "metadata": {},
     "output_type": "execute_result"
    }
   ],
   "source": [
    "# col 추가\n",
    "\n",
    "# df['성별'] = 0\n",
    "# df['a'] = 1\n",
    "df.head()"
   ]
  },
  {
   "cell_type": "code",
   "execution_count": 40,
   "metadata": {},
   "outputs": [
    {
     "data": {
      "text/html": [
       "<div>\n",
       "<style scoped>\n",
       "    .dataframe tbody tr th:only-of-type {\n",
       "        vertical-align: middle;\n",
       "    }\n",
       "\n",
       "    .dataframe tbody tr th {\n",
       "        vertical-align: top;\n",
       "    }\n",
       "\n",
       "    .dataframe thead th {\n",
       "        text-align: right;\n",
       "    }\n",
       "</style>\n",
       "<table border=\"1\" class=\"dataframe\">\n",
       "  <thead>\n",
       "    <tr style=\"text-align: right;\">\n",
       "      <th></th>\n",
       "      <th>id</th>\n",
       "      <th>제목</th>\n",
       "      <th>제안분야</th>\n",
       "      <th>제안시작</th>\n",
       "      <th>제안마감</th>\n",
       "      <th>투표수</th>\n",
       "      <th>제안인</th>\n",
       "    </tr>\n",
       "  </thead>\n",
       "  <tbody>\n",
       "    <tr>\n",
       "      <td>0</td>\n",
       "      <td>280</td>\n",
       "      <td>행정기관 소속 위원회 위원 개인정보 및 안건 공개 기준에 관한 법적 근거 마련</td>\n",
       "      <td>일반행정</td>\n",
       "      <td>2019.10.16</td>\n",
       "      <td>2020.01.13</td>\n",
       "      <td>0</td>\n",
       "      <td>법제혁신</td>\n",
       "    </tr>\n",
       "    <tr>\n",
       "      <td>1</td>\n",
       "      <td>279</td>\n",
       "      <td>초과근무 줄이기!</td>\n",
       "      <td>일반행정</td>\n",
       "      <td>2019.10.16</td>\n",
       "      <td>2020.01.13</td>\n",
       "      <td>2</td>\n",
       "      <td>ㅁㄴㅁ</td>\n",
       "    </tr>\n",
       "    <tr>\n",
       "      <td>2</td>\n",
       "      <td>278</td>\n",
       "      <td>원스톱 의원요구자료 제출 시스템 구축</td>\n",
       "      <td>일반행정</td>\n",
       "      <td>2019.10.15</td>\n",
       "      <td>2020.01.12</td>\n",
       "      <td>0</td>\n",
       "      <td>연시랑</td>\n",
       "    </tr>\n",
       "    <tr>\n",
       "      <td>3</td>\n",
       "      <td>277</td>\n",
       "      <td>예산을 공평하게 분배</td>\n",
       "      <td>사회통합</td>\n",
       "      <td>2019.10.15</td>\n",
       "      <td>2020.01.12</td>\n",
       "      <td>3</td>\n",
       "      <td>슈퍼맨119</td>\n",
       "    </tr>\n",
       "    <tr>\n",
       "      <td>4</td>\n",
       "      <td>276</td>\n",
       "      <td>공무원 인트라넷 통합메신저</td>\n",
       "      <td>일반행정</td>\n",
       "      <td>2019.10.15</td>\n",
       "      <td>2020.01.12</td>\n",
       "      <td>0</td>\n",
       "      <td>페이소스</td>\n",
       "    </tr>\n",
       "  </tbody>\n",
       "</table>\n",
       "</div>"
      ],
      "text/plain": [
       "    id                                           제목  제안분야        제안시작  \\\n",
       "0  280  행정기관 소속 위원회 위원 개인정보 및 안건 공개 기준에 관한 법적 근거 마련  일반행정  2019.10.16   \n",
       "1  279                                    초과근무 줄이기!  일반행정  2019.10.16   \n",
       "2  278                         원스톱 의원요구자료 제출 시스템 구축  일반행정  2019.10.15   \n",
       "3  277                                  예산을 공평하게 분배  사회통합  2019.10.15   \n",
       "4  276                               공무원 인트라넷 통합메신저  일반행정  2019.10.15   \n",
       "\n",
       "         제안마감  투표수     제안인  \n",
       "0  2020.01.13    0    법제혁신  \n",
       "1  2020.01.13    2     ㅁㄴㅁ  \n",
       "2  2020.01.12    0     연시랑  \n",
       "3  2020.01.12    3  슈퍼맨119  \n",
       "4  2020.01.12    0    페이소스  "
      ]
     },
     "execution_count": 40,
     "metadata": {},
     "output_type": "execute_result"
    }
   ],
   "source": [
    "# del df['성별']\n",
    "# del df['a']\n",
    "\n",
    "# df.drop(['성별', 'a'], inplace=True, axis = 1)\n",
    "df.head()"
   ]
  },
  {
   "cell_type": "code",
   "execution_count": 13,
   "metadata": {},
   "outputs": [
    {
     "data": {
      "text/html": [
       "<div>\n",
       "<style scoped>\n",
       "    .dataframe tbody tr th:only-of-type {\n",
       "        vertical-align: middle;\n",
       "    }\n",
       "\n",
       "    .dataframe tbody tr th {\n",
       "        vertical-align: top;\n",
       "    }\n",
       "\n",
       "    .dataframe thead th {\n",
       "        text-align: right;\n",
       "    }\n",
       "</style>\n",
       "<table border=\"1\" class=\"dataframe\">\n",
       "  <thead>\n",
       "    <tr style=\"text-align: right;\">\n",
       "      <th></th>\n",
       "      <th>Unnamed: 0</th>\n",
       "      <th>id</th>\n",
       "      <th>제목</th>\n",
       "      <th>제안분야</th>\n",
       "      <th>제안시작</th>\n",
       "      <th>제안마감</th>\n",
       "      <th>투표수</th>\n",
       "      <th>제안인</th>\n",
       "    </tr>\n",
       "  </thead>\n",
       "  <tbody>\n",
       "    <tr>\n",
       "      <td>0</td>\n",
       "      <td>0</td>\n",
       "      <td>280</td>\n",
       "      <td>행정기관 소속 위원회 위원 개인정보 및 안건 공개 기준에 관한 법적 근거 마련</td>\n",
       "      <td>일반행정</td>\n",
       "      <td>2019.10.16</td>\n",
       "      <td>2020.01.13</td>\n",
       "      <td>0</td>\n",
       "      <td>법제혁신</td>\n",
       "    </tr>\n",
       "    <tr>\n",
       "      <td>1</td>\n",
       "      <td>1</td>\n",
       "      <td>279</td>\n",
       "      <td>초과근무 줄이기!</td>\n",
       "      <td>일반행정</td>\n",
       "      <td>2019.10.16</td>\n",
       "      <td>2020.01.13</td>\n",
       "      <td>2</td>\n",
       "      <td>ㅁㄴㅁ</td>\n",
       "    </tr>\n",
       "    <tr>\n",
       "      <td>2</td>\n",
       "      <td>2</td>\n",
       "      <td>278</td>\n",
       "      <td>원스톱 의원요구자료 제출 시스템 구축</td>\n",
       "      <td>일반행정</td>\n",
       "      <td>2019.10.15</td>\n",
       "      <td>2020.01.12</td>\n",
       "      <td>0</td>\n",
       "      <td>연시랑</td>\n",
       "    </tr>\n",
       "  </tbody>\n",
       "</table>\n",
       "</div>"
      ],
      "text/plain": [
       "   Unnamed: 0   id                                           제목  제안분야  \\\n",
       "0           0  280  행정기관 소속 위원회 위원 개인정보 및 안건 공개 기준에 관한 법적 근거 마련  일반행정   \n",
       "1           1  279                                    초과근무 줄이기!  일반행정   \n",
       "2           2  278                         원스톱 의원요구자료 제출 시스템 구축  일반행정   \n",
       "\n",
       "         제안시작        제안마감  투표수   제안인  \n",
       "0  2019.10.16  2020.01.13    0  법제혁신  \n",
       "1  2019.10.16  2020.01.13    2   ㅁㄴㅁ  \n",
       "2  2019.10.15  2020.01.12    0   연시랑  "
      ]
     },
     "execution_count": 13,
     "metadata": {},
     "output_type": "execute_result"
    }
   ],
   "source": [
    "df[df['제안분야']=='일반행정'].head(3)"
   ]
  },
  {
   "cell_type": "code",
   "execution_count": 14,
   "metadata": {},
   "outputs": [
    {
     "data": {
      "text/html": [
       "<div>\n",
       "<style scoped>\n",
       "    .dataframe tbody tr th:only-of-type {\n",
       "        vertical-align: middle;\n",
       "    }\n",
       "\n",
       "    .dataframe tbody tr th {\n",
       "        vertical-align: top;\n",
       "    }\n",
       "\n",
       "    .dataframe thead th {\n",
       "        text-align: right;\n",
       "    }\n",
       "</style>\n",
       "<table border=\"1\" class=\"dataframe\">\n",
       "  <thead>\n",
       "    <tr style=\"text-align: right;\">\n",
       "      <th></th>\n",
       "      <th>Unnamed: 0</th>\n",
       "      <th>id</th>\n",
       "      <th>제목</th>\n",
       "      <th>제안분야</th>\n",
       "      <th>제안시작</th>\n",
       "      <th>제안마감</th>\n",
       "      <th>투표수</th>\n",
       "      <th>제안인</th>\n",
       "    </tr>\n",
       "  </thead>\n",
       "  <tbody>\n",
       "    <tr>\n",
       "      <td>0</td>\n",
       "      <td>0</td>\n",
       "      <td>280</td>\n",
       "      <td>행정기관 소속 위원회 위원 개인정보 및 안건 공개 기준에 관한 법적 근거 마련</td>\n",
       "      <td>일반행정</td>\n",
       "      <td>2019.10.16</td>\n",
       "      <td>2020.01.13</td>\n",
       "      <td>0</td>\n",
       "      <td>법제혁신</td>\n",
       "    </tr>\n",
       "    <tr>\n",
       "      <td>1</td>\n",
       "      <td>1</td>\n",
       "      <td>279</td>\n",
       "      <td>초과근무 줄이기!</td>\n",
       "      <td>일반행정</td>\n",
       "      <td>2019.10.16</td>\n",
       "      <td>2020.01.13</td>\n",
       "      <td>2</td>\n",
       "      <td>ㅁㄴㅁ</td>\n",
       "    </tr>\n",
       "    <tr>\n",
       "      <td>2</td>\n",
       "      <td>2</td>\n",
       "      <td>278</td>\n",
       "      <td>원스톱 의원요구자료 제출 시스템 구축</td>\n",
       "      <td>일반행정</td>\n",
       "      <td>2019.10.15</td>\n",
       "      <td>2020.01.12</td>\n",
       "      <td>0</td>\n",
       "      <td>연시랑</td>\n",
       "    </tr>\n",
       "  </tbody>\n",
       "</table>\n",
       "</div>"
      ],
      "text/plain": [
       "   Unnamed: 0   id                                           제목  제안분야  \\\n",
       "0           0  280  행정기관 소속 위원회 위원 개인정보 및 안건 공개 기준에 관한 법적 근거 마련  일반행정   \n",
       "1           1  279                                    초과근무 줄이기!  일반행정   \n",
       "2           2  278                         원스톱 의원요구자료 제출 시스템 구축  일반행정   \n",
       "\n",
       "         제안시작        제안마감  투표수   제안인  \n",
       "0  2019.10.16  2020.01.13    0  법제혁신  \n",
       "1  2019.10.16  2020.01.13    2   ㅁㄴㅁ  \n",
       "2  2019.10.15  2020.01.12    0   연시랑  "
      ]
     },
     "execution_count": 14,
     "metadata": {},
     "output_type": "execute_result"
    }
   ],
   "source": [
    "df[df['제안시작']>='2019.10.01'].head(3)"
   ]
  },
  {
   "cell_type": "code",
   "execution_count": 26,
   "metadata": {},
   "outputs": [
    {
     "data": {
      "text/plain": [
       "Int64Index([0, 1, 2, 3, 4, 5, 6, 7, 8, 9, 10, 11, 12, 13, 14], dtype='int64')"
      ]
     },
     "execution_count": 26,
     "metadata": {},
     "output_type": "execute_result"
    }
   ],
   "source": [
    "df.index"
   ]
  },
  {
   "cell_type": "code",
   "execution_count": 27,
   "metadata": {},
   "outputs": [
    {
     "data": {
      "text/plain": [
       "Unnamed: 0    NaN\n",
       "id            NaN\n",
       "제목            NaN\n",
       "제안분야          NaN\n",
       "제안시작          NaN\n",
       "제안마감          NaN\n",
       "투표수           NaN\n",
       "제안인           NaN\n",
       "Name: 268, dtype: object"
      ]
     },
     "execution_count": 27,
     "metadata": {},
     "output_type": "execute_result"
    }
   ],
   "source": [
    "# loc/iloc\n",
    "# 명칭/위치 기반 인덱싱\n",
    "df.loc[268] = np.nan\n",
    "df.iloc[-1]"
   ]
  },
  {
   "cell_type": "code",
   "execution_count": 46,
   "metadata": {},
   "outputs": [
    {
     "data": {
      "text/plain": [
       "id\n",
       "279    초과근무 줄이기!\n",
       "279    초과근무 줄이기!\n",
       "Name: 제목, dtype: object"
      ]
     },
     "execution_count": 46,
     "metadata": {},
     "output_type": "execute_result"
    }
   ],
   "source": [
    "df.loc[279, '제목']"
   ]
  },
  {
   "cell_type": "code",
   "execution_count": 47,
   "metadata": {},
   "outputs": [
    {
     "data": {
      "text/plain": [
       "'초과근무 줄이기!'"
      ]
     },
     "execution_count": 47,
     "metadata": {},
     "output_type": "execute_result"
    }
   ],
   "source": [
    "df.iloc[1,0]"
   ]
  },
  {
   "cell_type": "code",
   "execution_count": 48,
   "metadata": {},
   "outputs": [
    {
     "data": {
      "text/plain": [
       "제목      국민연금불입금담보대출\n",
       "제안분야           보건복지\n",
       "제안시작     2019.09.17\n",
       "제안마감     2019.12.15\n",
       "투표수               6\n",
       "제안인           인생2모작\n",
       "Name: 270, dtype: object"
      ]
     },
     "execution_count": 48,
     "metadata": {},
     "output_type": "execute_result"
    }
   ],
   "source": [
    "df.iloc[-1] # 모두 가져오기"
   ]
  },
  {
   "cell_type": "code",
   "execution_count": 75,
   "metadata": {},
   "outputs": [
    {
     "data": {
      "text/plain": [
       "제목      None\n",
       "제안분야    None\n",
       "제안시작    None\n",
       "제안마감    None\n",
       "투표수     None\n",
       "제안인     None\n",
       "Name: 228, dtype: object"
      ]
     },
     "execution_count": 75,
     "metadata": {},
     "output_type": "execute_result"
    }
   ],
   "source": [
    "df.loc[227] = {'제목':'개학', '제안분야':'기타', '제안시작':'2020.5.25', '제안마감':'2020.5.30', '투표수':5, '제안인':None}\n",
    "df.loc[228] = {'제목':None, '제안분야':None, '제안시작':None, '제안마감':None, '투표수':None, '제안인':None}\n",
    "df.iloc[-1]"
   ]
  },
  {
   "cell_type": "code",
   "execution_count": 76,
   "metadata": {},
   "outputs": [
    {
     "data": {
      "text/plain": [
       "제목      1\n",
       "제안분야    1\n",
       "제안시작    1\n",
       "제안마감    1\n",
       "투표수     1\n",
       "제안인     2\n",
       "dtype: int64"
      ]
     },
     "execution_count": 76,
     "metadata": {},
     "output_type": "execute_result"
    }
   ],
   "source": [
    "df.isna().sum()"
   ]
  },
  {
   "cell_type": "code",
   "execution_count": 77,
   "metadata": {},
   "outputs": [],
   "source": [
    "df['제안인'] = df['제안인'].fillna('홍길동')\n",
    "df.loc[228:227]"
   ]
  },
  {
   "cell_type": "code",
   "execution_count": 80,
   "metadata": {},
   "outputs": [],
   "source": [
    "df = df.dropna()\n",
    "df.loc[228:227]"
   ]
  },
  {
   "cell_type": "code",
   "execution_count": 82,
   "metadata": {},
   "outputs": [
    {
     "data": {
      "text/plain": [
       "제목      0\n",
       "제안분야    0\n",
       "제안시작    0\n",
       "제안마감    0\n",
       "투표수     0\n",
       "제안인     0\n",
       "dtype: int64"
      ]
     },
     "execution_count": 82,
     "metadata": {},
     "output_type": "execute_result"
    }
   ],
   "source": [
    "# df.drop([227], inplace=True, axis=0)\n",
    "df.isna().sum()"
   ]
  },
  {
   "cell_type": "code",
   "execution_count": 83,
   "metadata": {},
   "outputs": [
    {
     "data": {
      "text/html": [
       "<div>\n",
       "<style scoped>\n",
       "    .dataframe tbody tr th:only-of-type {\n",
       "        vertical-align: middle;\n",
       "    }\n",
       "\n",
       "    .dataframe tbody tr th {\n",
       "        vertical-align: top;\n",
       "    }\n",
       "\n",
       "    .dataframe thead th {\n",
       "        text-align: right;\n",
       "    }\n",
       "</style>\n",
       "<table border=\"1\" class=\"dataframe\">\n",
       "  <thead>\n",
       "    <tr style=\"text-align: right;\">\n",
       "      <th></th>\n",
       "      <th>제목</th>\n",
       "      <th>제안분야</th>\n",
       "      <th>제안시작</th>\n",
       "      <th>제안마감</th>\n",
       "      <th>투표수</th>\n",
       "      <th>제안인</th>\n",
       "    </tr>\n",
       "    <tr>\n",
       "      <th>id</th>\n",
       "      <th></th>\n",
       "      <th></th>\n",
       "      <th></th>\n",
       "      <th></th>\n",
       "      <th></th>\n",
       "      <th></th>\n",
       "    </tr>\n",
       "  </thead>\n",
       "  <tbody>\n",
       "    <tr>\n",
       "      <td>280</td>\n",
       "      <td>행정기관 소속 위원회 위원 개인정보 및 안건 공개 기준에 관한 법적 근거 마련</td>\n",
       "      <td>일반행정</td>\n",
       "      <td>2019.10.16</td>\n",
       "      <td>2020.01.13</td>\n",
       "      <td>0</td>\n",
       "      <td>법제혁신</td>\n",
       "    </tr>\n",
       "    <tr>\n",
       "      <td>279</td>\n",
       "      <td>초과근무 줄이기!</td>\n",
       "      <td>일반행정</td>\n",
       "      <td>2019.10.16</td>\n",
       "      <td>2020.01.13</td>\n",
       "      <td>2</td>\n",
       "      <td>ㅁㄴㅁ</td>\n",
       "    </tr>\n",
       "    <tr>\n",
       "      <td>278</td>\n",
       "      <td>원스톱 의원요구자료 제출 시스템 구축</td>\n",
       "      <td>일반행정</td>\n",
       "      <td>2019.10.15</td>\n",
       "      <td>2020.01.12</td>\n",
       "      <td>0</td>\n",
       "      <td>연시랑</td>\n",
       "    </tr>\n",
       "    <tr>\n",
       "      <td>276</td>\n",
       "      <td>공무원 인트라넷 통합메신저</td>\n",
       "      <td>일반행정</td>\n",
       "      <td>2019.10.15</td>\n",
       "      <td>2020.01.12</td>\n",
       "      <td>0</td>\n",
       "      <td>페이소스</td>\n",
       "    </tr>\n",
       "    <tr>\n",
       "      <td>280</td>\n",
       "      <td>행정기관 소속 위원회 위원 개인정보 및 안건 공개 기준에 관한 법적 근거 마련</td>\n",
       "      <td>일반행정</td>\n",
       "      <td>2019.10.16</td>\n",
       "      <td>2020.01.13</td>\n",
       "      <td>0</td>\n",
       "      <td>법제혁신</td>\n",
       "    </tr>\n",
       "    <tr>\n",
       "      <td>279</td>\n",
       "      <td>초과근무 줄이기!</td>\n",
       "      <td>일반행정</td>\n",
       "      <td>2019.10.16</td>\n",
       "      <td>2020.01.13</td>\n",
       "      <td>2</td>\n",
       "      <td>ㅁㄴㅁ</td>\n",
       "    </tr>\n",
       "    <tr>\n",
       "      <td>278</td>\n",
       "      <td>원스톱 의원요구자료 제출 시스템 구축</td>\n",
       "      <td>일반행정</td>\n",
       "      <td>2019.10.15</td>\n",
       "      <td>2020.01.12</td>\n",
       "      <td>0</td>\n",
       "      <td>연시랑</td>\n",
       "    </tr>\n",
       "    <tr>\n",
       "      <td>276</td>\n",
       "      <td>공무원 인트라넷 통합메신저</td>\n",
       "      <td>일반행정</td>\n",
       "      <td>2019.10.15</td>\n",
       "      <td>2020.01.12</td>\n",
       "      <td>0</td>\n",
       "      <td>페이소스</td>\n",
       "    </tr>\n",
       "    <tr>\n",
       "      <td>271</td>\n",
       "      <td>주거형 오피스텔 차별 해소 필요</td>\n",
       "      <td>일반행정</td>\n",
       "      <td>2019.09.18</td>\n",
       "      <td>2019.12.16</td>\n",
       "      <td>4</td>\n",
       "      <td>vision</td>\n",
       "    </tr>\n",
       "  </tbody>\n",
       "</table>\n",
       "</div>"
      ],
      "text/plain": [
       "                                              제목  제안분야        제안시작  \\\n",
       "id                                                                   \n",
       "280  행정기관 소속 위원회 위원 개인정보 및 안건 공개 기준에 관한 법적 근거 마련  일반행정  2019.10.16   \n",
       "279                                    초과근무 줄이기!  일반행정  2019.10.16   \n",
       "278                         원스톱 의원요구자료 제출 시스템 구축  일반행정  2019.10.15   \n",
       "276                               공무원 인트라넷 통합메신저  일반행정  2019.10.15   \n",
       "280  행정기관 소속 위원회 위원 개인정보 및 안건 공개 기준에 관한 법적 근거 마련  일반행정  2019.10.16   \n",
       "279                                    초과근무 줄이기!  일반행정  2019.10.16   \n",
       "278                         원스톱 의원요구자료 제출 시스템 구축  일반행정  2019.10.15   \n",
       "276                               공무원 인트라넷 통합메신저  일반행정  2019.10.15   \n",
       "271                            주거형 오피스텔 차별 해소 필요  일반행정  2019.09.18   \n",
       "\n",
       "           제안마감 투표수     제안인  \n",
       "id                           \n",
       "280  2020.01.13   0    법제혁신  \n",
       "279  2020.01.13   2     ㅁㄴㅁ  \n",
       "278  2020.01.12   0     연시랑  \n",
       "276  2020.01.12   0    페이소스  \n",
       "280  2020.01.13   0    법제혁신  \n",
       "279  2020.01.13   2     ㅁㄴㅁ  \n",
       "278  2020.01.12   0     연시랑  \n",
       "276  2020.01.12   0    페이소스  \n",
       "271  2019.12.16   4  vision  "
      ]
     },
     "execution_count": 83,
     "metadata": {},
     "output_type": "execute_result"
    }
   ],
   "source": [
    "df[df['제안분야'] == '일반행정']"
   ]
  },
  {
   "cell_type": "code",
   "execution_count": 104,
   "metadata": {},
   "outputs": [
    {
     "data": {
      "text/html": [
       "<div>\n",
       "<style scoped>\n",
       "    .dataframe tbody tr th:only-of-type {\n",
       "        vertical-align: middle;\n",
       "    }\n",
       "\n",
       "    .dataframe tbody tr th {\n",
       "        vertical-align: top;\n",
       "    }\n",
       "\n",
       "    .dataframe thead th {\n",
       "        text-align: right;\n",
       "    }\n",
       "</style>\n",
       "<table border=\"1\" class=\"dataframe\">\n",
       "  <thead>\n",
       "    <tr style=\"text-align: right;\">\n",
       "      <th></th>\n",
       "      <th>제목</th>\n",
       "      <th>제안분야</th>\n",
       "      <th>제안시작</th>\n",
       "      <th>제안마감</th>\n",
       "      <th>투표수</th>\n",
       "      <th>제안인</th>\n",
       "    </tr>\n",
       "    <tr>\n",
       "      <th>id</th>\n",
       "      <th></th>\n",
       "      <th></th>\n",
       "      <th></th>\n",
       "      <th></th>\n",
       "      <th></th>\n",
       "      <th></th>\n",
       "    </tr>\n",
       "  </thead>\n",
       "  <tbody>\n",
       "    <tr>\n",
       "      <td>280</td>\n",
       "      <td>행정기관 소속 위원회 위원 개인정보 및 안건 공개 기준에 관한 법적 근거 마련</td>\n",
       "      <td>일반행정</td>\n",
       "      <td>2019.10.16</td>\n",
       "      <td>2020.01.13</td>\n",
       "      <td>0</td>\n",
       "      <td>법제혁신</td>\n",
       "    </tr>\n",
       "    <tr>\n",
       "      <td>279</td>\n",
       "      <td>초과근무 줄이기!</td>\n",
       "      <td>일반행정</td>\n",
       "      <td>2019.10.16</td>\n",
       "      <td>2020.01.13</td>\n",
       "      <td>2</td>\n",
       "      <td>ㅁㄴㅁ</td>\n",
       "    </tr>\n",
       "    <tr>\n",
       "      <td>278</td>\n",
       "      <td>원스톱 의원요구자료 제출 시스템 구축</td>\n",
       "      <td>일반행정</td>\n",
       "      <td>2019.10.15</td>\n",
       "      <td>2020.01.12</td>\n",
       "      <td>0</td>\n",
       "      <td>연시랑</td>\n",
       "    </tr>\n",
       "    <tr>\n",
       "      <td>276</td>\n",
       "      <td>공무원 인트라넷 통합메신저</td>\n",
       "      <td>일반행정</td>\n",
       "      <td>2019.10.15</td>\n",
       "      <td>2020.01.12</td>\n",
       "      <td>0</td>\n",
       "      <td>페이소스</td>\n",
       "    </tr>\n",
       "    <tr>\n",
       "      <td>280</td>\n",
       "      <td>행정기관 소속 위원회 위원 개인정보 및 안건 공개 기준에 관한 법적 근거 마련</td>\n",
       "      <td>일반행정</td>\n",
       "      <td>2019.10.16</td>\n",
       "      <td>2020.01.13</td>\n",
       "      <td>0</td>\n",
       "      <td>법제혁신</td>\n",
       "    </tr>\n",
       "    <tr>\n",
       "      <td>279</td>\n",
       "      <td>초과근무 줄이기!</td>\n",
       "      <td>일반행정</td>\n",
       "      <td>2019.10.16</td>\n",
       "      <td>2020.01.13</td>\n",
       "      <td>2</td>\n",
       "      <td>ㅁㄴㅁ</td>\n",
       "    </tr>\n",
       "    <tr>\n",
       "      <td>278</td>\n",
       "      <td>원스톱 의원요구자료 제출 시스템 구축</td>\n",
       "      <td>일반행정</td>\n",
       "      <td>2019.10.15</td>\n",
       "      <td>2020.01.12</td>\n",
       "      <td>0</td>\n",
       "      <td>연시랑</td>\n",
       "    </tr>\n",
       "    <tr>\n",
       "      <td>276</td>\n",
       "      <td>공무원 인트라넷 통합메신저</td>\n",
       "      <td>일반행정</td>\n",
       "      <td>2019.10.15</td>\n",
       "      <td>2020.01.12</td>\n",
       "      <td>0</td>\n",
       "      <td>페이소스</td>\n",
       "    </tr>\n",
       "    <tr>\n",
       "      <td>271</td>\n",
       "      <td>주거형 오피스텔 차별 해소 필요</td>\n",
       "      <td>일반행정</td>\n",
       "      <td>2019.09.18</td>\n",
       "      <td>2019.12.16</td>\n",
       "      <td>4</td>\n",
       "      <td>vision</td>\n",
       "    </tr>\n",
       "  </tbody>\n",
       "</table>\n",
       "</div>"
      ],
      "text/plain": [
       "                                              제목  제안분야        제안시작  \\\n",
       "id                                                                   \n",
       "280  행정기관 소속 위원회 위원 개인정보 및 안건 공개 기준에 관한 법적 근거 마련  일반행정  2019.10.16   \n",
       "279                                    초과근무 줄이기!  일반행정  2019.10.16   \n",
       "278                         원스톱 의원요구자료 제출 시스템 구축  일반행정  2019.10.15   \n",
       "276                               공무원 인트라넷 통합메신저  일반행정  2019.10.15   \n",
       "280  행정기관 소속 위원회 위원 개인정보 및 안건 공개 기준에 관한 법적 근거 마련  일반행정  2019.10.16   \n",
       "279                                    초과근무 줄이기!  일반행정  2019.10.16   \n",
       "278                         원스톱 의원요구자료 제출 시스템 구축  일반행정  2019.10.15   \n",
       "276                               공무원 인트라넷 통합메신저  일반행정  2019.10.15   \n",
       "271                            주거형 오피스텔 차별 해소 필요  일반행정  2019.09.18   \n",
       "\n",
       "           제안마감 투표수     제안인  \n",
       "id                           \n",
       "280  2020.01.13   0    법제혁신  \n",
       "279  2020.01.13   2     ㅁㄴㅁ  \n",
       "278  2020.01.12   0     연시랑  \n",
       "276  2020.01.12   0    페이소스  \n",
       "280  2020.01.13   0    법제혁신  \n",
       "279  2020.01.13   2     ㅁㄴㅁ  \n",
       "278  2020.01.12   0     연시랑  \n",
       "276  2020.01.12   0    페이소스  \n",
       "271  2019.12.16   4  vision  "
      ]
     },
     "execution_count": 104,
     "metadata": {},
     "output_type": "execute_result"
    }
   ],
   "source": [
    "df[(df['제안분야'] == '일반행정') & (df['제안시작']>='2019.09.01')]"
   ]
  },
  {
   "cell_type": "code",
   "execution_count": 106,
   "metadata": {},
   "outputs": [
    {
     "data": {
      "text/html": [
       "<div>\n",
       "<style scoped>\n",
       "    .dataframe tbody tr th:only-of-type {\n",
       "        vertical-align: middle;\n",
       "    }\n",
       "\n",
       "    .dataframe tbody tr th {\n",
       "        vertical-align: top;\n",
       "    }\n",
       "\n",
       "    .dataframe thead th {\n",
       "        text-align: right;\n",
       "    }\n",
       "</style>\n",
       "<table border=\"1\" class=\"dataframe\">\n",
       "  <thead>\n",
       "    <tr style=\"text-align: right;\">\n",
       "      <th></th>\n",
       "      <th>제목</th>\n",
       "      <th>제안분야</th>\n",
       "      <th>제안시작</th>\n",
       "      <th>제안마감</th>\n",
       "      <th>투표수</th>\n",
       "      <th>제안인</th>\n",
       "    </tr>\n",
       "    <tr>\n",
       "      <th>id</th>\n",
       "      <th></th>\n",
       "      <th></th>\n",
       "      <th></th>\n",
       "      <th></th>\n",
       "      <th></th>\n",
       "      <th></th>\n",
       "    </tr>\n",
       "  </thead>\n",
       "  <tbody>\n",
       "    <tr>\n",
       "      <td>280</td>\n",
       "      <td>행정기관 소속 위원회 위원 개인정보 및 안건 공개 기준에 관한 법적 근거 마련</td>\n",
       "      <td>일반행정</td>\n",
       "      <td>2019.10.16</td>\n",
       "      <td>2020.01.13</td>\n",
       "      <td>0</td>\n",
       "      <td>법제혁신</td>\n",
       "    </tr>\n",
       "    <tr>\n",
       "      <td>279</td>\n",
       "      <td>초과근무 줄이기!</td>\n",
       "      <td>일반행정</td>\n",
       "      <td>2019.10.16</td>\n",
       "      <td>2020.01.13</td>\n",
       "      <td>2</td>\n",
       "      <td>ㅁㄴㅁ</td>\n",
       "    </tr>\n",
       "    <tr>\n",
       "      <td>278</td>\n",
       "      <td>원스톱 의원요구자료 제출 시스템 구축</td>\n",
       "      <td>일반행정</td>\n",
       "      <td>2019.10.15</td>\n",
       "      <td>2020.01.12</td>\n",
       "      <td>0</td>\n",
       "      <td>연시랑</td>\n",
       "    </tr>\n",
       "    <tr>\n",
       "      <td>277</td>\n",
       "      <td>예산을 공평하게 분배</td>\n",
       "      <td>사회통합</td>\n",
       "      <td>2019.10.15</td>\n",
       "      <td>2020.01.12</td>\n",
       "      <td>3</td>\n",
       "      <td>슈퍼맨119</td>\n",
       "    </tr>\n",
       "    <tr>\n",
       "      <td>276</td>\n",
       "      <td>공무원 인트라넷 통합메신저</td>\n",
       "      <td>일반행정</td>\n",
       "      <td>2019.10.15</td>\n",
       "      <td>2020.01.12</td>\n",
       "      <td>0</td>\n",
       "      <td>페이소스</td>\n",
       "    </tr>\n",
       "  </tbody>\n",
       "</table>\n",
       "</div>"
      ],
      "text/plain": [
       "                                              제목  제안분야        제안시작  \\\n",
       "id                                                                   \n",
       "280  행정기관 소속 위원회 위원 개인정보 및 안건 공개 기준에 관한 법적 근거 마련  일반행정  2019.10.16   \n",
       "279                                    초과근무 줄이기!  일반행정  2019.10.16   \n",
       "278                         원스톱 의원요구자료 제출 시스템 구축  일반행정  2019.10.15   \n",
       "277                                  예산을 공평하게 분배  사회통합  2019.10.15   \n",
       "276                               공무원 인트라넷 통합메신저  일반행정  2019.10.15   \n",
       "\n",
       "           제안마감 투표수     제안인  \n",
       "id                           \n",
       "280  2020.01.13   0    법제혁신  \n",
       "279  2020.01.13   2     ㅁㄴㅁ  \n",
       "278  2020.01.12   0     연시랑  \n",
       "277  2020.01.12   3  슈퍼맨119  \n",
       "276  2020.01.12   0    페이소스  "
      ]
     },
     "execution_count": 106,
     "metadata": {},
     "output_type": "execute_result"
    }
   ],
   "source": [
    "df[(df['제안분야'] == '일반행정') | (df['제안시작']>='2019.09.01')].head()"
   ]
  },
  {
   "cell_type": "code",
   "execution_count": 107,
   "metadata": {},
   "outputs": [
    {
     "data": {
      "text/html": [
       "<div>\n",
       "<style scoped>\n",
       "    .dataframe tbody tr th:only-of-type {\n",
       "        vertical-align: middle;\n",
       "    }\n",
       "\n",
       "    .dataframe tbody tr th {\n",
       "        vertical-align: top;\n",
       "    }\n",
       "\n",
       "    .dataframe thead th {\n",
       "        text-align: right;\n",
       "    }\n",
       "</style>\n",
       "<table border=\"1\" class=\"dataframe\">\n",
       "  <thead>\n",
       "    <tr style=\"text-align: right;\">\n",
       "      <th></th>\n",
       "      <th>제목</th>\n",
       "      <th>제안분야</th>\n",
       "      <th>제안시작</th>\n",
       "      <th>제안마감</th>\n",
       "      <th>투표수</th>\n",
       "      <th>제안인</th>\n",
       "    </tr>\n",
       "    <tr>\n",
       "      <th>id</th>\n",
       "      <th></th>\n",
       "      <th></th>\n",
       "      <th></th>\n",
       "      <th></th>\n",
       "      <th></th>\n",
       "      <th></th>\n",
       "    </tr>\n",
       "  </thead>\n",
       "  <tbody>\n",
       "    <tr>\n",
       "      <td>280</td>\n",
       "      <td>행정기관 소속 위원회 위원 개인정보 및 안건 공개 기준에 관한 법적 근거 마련</td>\n",
       "      <td>일반행정</td>\n",
       "      <td>2019.10.16</td>\n",
       "      <td>2020.01.13</td>\n",
       "      <td>0</td>\n",
       "      <td>법제혁신</td>\n",
       "    </tr>\n",
       "    <tr>\n",
       "      <td>279</td>\n",
       "      <td>초과근무 줄이기!</td>\n",
       "      <td>일반행정</td>\n",
       "      <td>2019.10.16</td>\n",
       "      <td>2020.01.13</td>\n",
       "      <td>2</td>\n",
       "      <td>ㅁㄴㅁ</td>\n",
       "    </tr>\n",
       "    <tr>\n",
       "      <td>278</td>\n",
       "      <td>원스톱 의원요구자료 제출 시스템 구축</td>\n",
       "      <td>일반행정</td>\n",
       "      <td>2019.10.15</td>\n",
       "      <td>2020.01.12</td>\n",
       "      <td>0</td>\n",
       "      <td>연시랑</td>\n",
       "    </tr>\n",
       "  </tbody>\n",
       "</table>\n",
       "</div>"
      ],
      "text/plain": [
       "                                              제목  제안분야        제안시작  \\\n",
       "id                                                                   \n",
       "280  행정기관 소속 위원회 위원 개인정보 및 안건 공개 기준에 관한 법적 근거 마련  일반행정  2019.10.16   \n",
       "279                                    초과근무 줄이기!  일반행정  2019.10.16   \n",
       "278                         원스톱 의원요구자료 제출 시스템 구축  일반행정  2019.10.15   \n",
       "\n",
       "           제안마감  투표수   제안인  \n",
       "id                          \n",
       "280  2020.01.13    0  법제혁신  \n",
       "279  2020.01.13    2   ㅁㄴㅁ  \n",
       "278  2020.01.12    0   연시랑  "
      ]
     },
     "execution_count": 107,
     "metadata": {},
     "output_type": "execute_result"
    }
   ],
   "source": [
    "df['투표수'] = df['투표수'].astype(int) # 타입 변경 후 데이터 확인\n",
    "df.head(3)"
   ]
  },
  {
   "cell_type": "code",
   "execution_count": 109,
   "metadata": {},
   "outputs": [],
   "source": [
    "# 시각화 라이브러리\n",
    "\n",
    "# matplotlib\n",
    "# seaborn"
   ]
  },
  {
   "cell_type": "code",
   "execution_count": 2,
   "metadata": {},
   "outputs": [],
   "source": [
    "#0 529\n",
    "import pandas as pd\n",
    "import numpy as np\n",
    "import matplotlib.pyplot as plt\n",
    "import seaborn as sns\n",
    "%matplotlib inline\n",
    "\n",
    "import platform\n",
    "from matplotlib import font_manager, rc\n",
    "\n",
    "\n",
    "plt.rcParams['axes.unicode_minus'] = False\n",
    "\n",
    "#윈도우\n",
    "path = \"c:/Windows/Fonts/malgun.ttf\"\n",
    "font_name = font_manager.FontProperties(fname=path).get_name()\n",
    "rc('font', family=font_name)\n",
    "\n",
    "#맥\n",
    "#rc('font', family='AppleGothic')"
   ]
  },
  {
   "cell_type": "code",
   "execution_count": 9,
   "metadata": {},
   "outputs": [],
   "source": [
    "t = np.arange(0, 10, 0.1) # 시작, 종료, 간격\n",
    "y = np.sin(t)"
   ]
  },
  {
   "cell_type": "code",
   "execution_count": 10,
   "metadata": {},
   "outputs": [
    {
     "data": {
      "image/png": "[encoded data removed]",
      "text/plain": [
       "<Figure size 432x432 with 1 Axes>"
      ]
     },
     "metadata": {
      "needs_background": "light"
     },
     "output_type": "display_data"
    }
   ],
   "source": [
    "plt.figure(figsize = (6,6))\n",
    "\n",
    "# SIn 함수\n",
    "plt.plot(t,y, color = 'black', linestyle = '-', linewidth=5, marker='*', label = 'sin(t)')\n",
    "\n",
    "# Cosin 함수\n",
    "plt.plot(t,np.cos(t), color = 'blue', linestyle = '--', linewidth=5, marker='^', label = 'cos(t)')\n",
    "\n",
    "plt.grid() # 격자 무늬\n",
    "plt.title('Sin func')\n",
    "plt.xlabel('x')\n",
    "plt.ylabel('y')\n",
    "plt.ylim(-2,2) # 시작값, 종료값\n",
    "plt.legend()\n",
    "plt.text(6, 1.5, 'Data Science')\n",
    "\n",
    "plt.show()"
   ]
  },
  {
   "cell_type": "code",
   "execution_count": 29,
   "metadata": {},
   "outputs": [
    {
     "data": {
      "image/png": "[encoded data removed]",
      "text/plain": [
       "<Figure size 432x288 with 2 Axes>"
      ]
     },
     "metadata": {
      "needs_background": "light"
     },
     "output_type": "display_data"
    }
   ],
   "source": [
    "plt.subplot(1,2,1) # row, col, num\n",
    "plt.plot(t,y)\n",
    "\n",
    "plt.subplot(1,2,2)\n",
    "plt.plot(t,np.cos(t))\n",
    "plt.show()"
   ]
  },
  {
   "cell_type": "code",
   "execution_count": 30,
   "metadata": {},
   "outputs": [
    {
     "data": {
      "image/png": "[encoded data removed]",
      "text/plain": [
       "<Figure size 432x288 with 2 Axes>"
      ]
     },
     "metadata": {
      "needs_background": "light"
     },
     "output_type": "display_data"
    }
   ],
   "source": [
    "plt.subplot(2,1,1)\n",
    "plt.plot(t,y)\n",
    "\n",
    "plt.subplot(2,1,2)\n",
    "plt.plot(t,np.cos(t))\n",
    "plt.show()"
   ]
  },
  {
   "cell_type": "code",
   "execution_count": 31,
   "metadata": {},
   "outputs": [
    {
     "data": {
      "image/png": "[encoded data removed]",
      "text/plain": [
       "<Figure size 432x288 with 1 Axes>"
      ]
     },
     "metadata": {
      "needs_background": "light"
     },
     "output_type": "display_data"
    }
   ],
   "source": [
    "plt.scatter(t, y, s = 50)\n",
    "plt.show()"
   ]
  },
  {
   "cell_type": "code",
   "execution_count": 41,
   "metadata": {},
   "outputs": [
    {
     "data": {
      "text/plain": [
       "<BarContainer object of 15 artists>"
      ]
     },
     "execution_count": 41,
     "metadata": {},
     "output_type": "execute_result"
    },
    {
     "data": {
      "image/png": "[encoded data removed]",
      "text/plain": [
       "<Figure size 432x288 with 1 Axes>"
      ]
     },
     "metadata": {
      "needs_background": "light"
     },
     "output_type": "display_data"
    }
   ],
   "source": [
    "plt.bar(df['제안분야'], df['투표수'])"
   ]
  },
  {
   "cell_type": "code",
   "execution_count": 40,
   "metadata": {},
   "outputs": [
    {
     "data": {
      "text/plain": [
       "<BarContainer object of 15 artists>"
      ]
     },
     "execution_count": 40,
     "metadata": {},
     "output_type": "execute_result"
    },
    {
     "data": {
      "image/png": "[encoded data removed]",
      "text/plain": [
       "<Figure size 432x288 with 1 Axes>"
      ]
     },
     "metadata": {
      "needs_background": "light"
     },
     "output_type": "display_data"
    }
   ],
   "source": [
    "plt.barh(df['제안분야'], df['투표수'])"
   ]
  },
  {
   "cell_type": "code",
   "execution_count": 8,
   "metadata": {},
   "outputs": [
    {
     "data": {
      "image/png": "[encoded data removed]",
      "text/plain": [
       "<Figure size 432x288 with 1 Axes>"
      ]
     },
     "metadata": {
      "needs_background": "light"
     },
     "output_type": "display_data"
    }
   ],
   "source": [
    "plt.plot([1,2,3,4,5])\n",
    "plt.show()"
   ]
  },
  {
   "cell_type": "code",
   "execution_count": 42,
   "metadata": {},
   "outputs": [
    {
     "data": {
      "text/html": [
       "<div>\n",
       "<style scoped>\n",
       "    .dataframe tbody tr th:only-of-type {\n",
       "        vertical-align: middle;\n",
       "    }\n",
       "\n",
       "    .dataframe tbody tr th {\n",
       "        vertical-align: top;\n",
       "    }\n",
       "\n",
       "    .dataframe thead th {\n",
       "        text-align: right;\n",
       "    }\n",
       "</style>\n",
       "<table border=\"1\" class=\"dataframe\">\n",
       "  <thead>\n",
       "    <tr style=\"text-align: right;\">\n",
       "      <th></th>\n",
       "      <th>투표수</th>\n",
       "    </tr>\n",
       "    <tr>\n",
       "      <th>제안분야</th>\n",
       "      <th></th>\n",
       "    </tr>\n",
       "  </thead>\n",
       "  <tbody>\n",
       "    <tr>\n",
       "      <td>안전</td>\n",
       "      <td>9</td>\n",
       "    </tr>\n",
       "    <tr>\n",
       "      <td>공동체</td>\n",
       "      <td>8</td>\n",
       "    </tr>\n",
       "    <tr>\n",
       "      <td>일반행정</td>\n",
       "      <td>8</td>\n",
       "    </tr>\n",
       "    <tr>\n",
       "      <td>보건복지</td>\n",
       "      <td>6</td>\n",
       "    </tr>\n",
       "    <tr>\n",
       "      <td>사회통합</td>\n",
       "      <td>6</td>\n",
       "    </tr>\n",
       "  </tbody>\n",
       "</table>\n",
       "</div>"
      ],
      "text/plain": [
       "      투표수\n",
       "제안분야     \n",
       "안전      9\n",
       "공동체     8\n",
       "일반행정    8\n",
       "보건복지    6\n",
       "사회통합    6"
      ]
     },
     "execution_count": 42,
     "metadata": {},
     "output_type": "execute_result"
    }
   ],
   "source": [
    "# 제안분야별 투표 수\n",
    "df2 = df.groupby(by = '제안분야')[['투표수']].sum()\n",
    "\n",
    "# 내림차순 정렬\n",
    "df2 = df2.sort_values(by='투표수', ascending = False)\n",
    "df2.head()"
   ]
  },
  {
   "cell_type": "code",
   "execution_count": 56,
   "metadata": {},
   "outputs": [
    {
     "data": {
      "image/png": "[encoded data removed]",
      "text/plain": [
       "<Figure size 432x288 with 1 Axes>"
      ]
     },
     "metadata": {
      "needs_background": "light"
     },
     "output_type": "display_data"
    }
   ],
   "source": [
    "df2['투표수'].sort_values().plot(kind='barh')\n",
    "plt.show()"
   ]
  },
  {
   "cell_type": "code",
   "execution_count": 70,
   "metadata": {},
   "outputs": [
    {
     "data": {
      "image/png": "[encoded data removed]",
      "text/plain": [
       "<Figure size 504x504 with 1 Axes>"
      ]
     },
     "metadata": {
      "needs_background": "light"
     },
     "output_type": "display_data"
    }
   ],
   "source": [
    "plt.figure(figsize = (7,7))\n",
    "df2['투표수'].sort_values().plot(kind='barh', color='red')\n",
    "plt.grid()\n",
    "plt.title('제안분야별 투표수')\n",
    "plt.xlabel('투표수')\n",
    "plt.ylabel('제안분야')\n",
    "plt.xlim(0,10)\n",
    "\n",
    "for i in range(3):\n",
    "    plt.text(df2['투표수'][i], 4-i, df2['투표수'][i], fontsize=15)\n",
    "    \n",
    "plt.savefig('제안분야별 투표율.png')"
   ]
  },
  {
   "cell_type": "code",
   "execution_count": null,
   "metadata": {},
   "outputs": [],
   "source": []
  },
  {
   "cell_type": "code",
   "execution_count": null,
   "metadata": {},
   "outputs": [],
   "source": []
  }
 ],
 "metadata": {
  "kernelspec": {
   "display_name": "Python 3",
   "language": "python",
   "name": "python3"
  },
  "language_info": {
   "codemirror_mode": {
    "name": "ipython",
    "version": 3
   },
   "file_extension": ".py",
   "mimetype": "text/x-python",
   "name": "python",
   "nbconvert_exporter": "python",
   "pygments_lexer": "ipython3",
   "version": "3.7.4"
  }
 },
 "nbformat": 4,
 "nbformat_minor": 2
}
