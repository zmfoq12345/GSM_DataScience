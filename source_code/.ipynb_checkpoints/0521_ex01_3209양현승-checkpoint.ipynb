{
 "cells": [
  {
   "cell_type": "code",
   "execution_count": null,
   "metadata": {},
   "outputs": [],
   "source": [
    "from urllib.request import urlopen\n",
    "from bs4 import BeautifulSoup\n",
    "\n",
    "url = 'http://www.innogov.go.kr/ucms/ogp/sug/list.do?pnum=1&menuNo=300011'\n",
    "html = urlopen(url)\n",
    "soup = BeautifulSoup(html, 'html.parser')\n",
    "\n",
    "# result = soup.select_one(\"#content > div.suggestion_list > ul > li:nth-child(1) > dl > dt > p > a\")\n",
    "# print(result)\n",
    "# print(\"제목 :\", result.string)\n",
    "# print(\"링크 :\", result.attrs['href'])\n",
    "\n",
    "results = soup.select(\"#content > div.suggestion_list > ul > li > dl > dt > p > a\")\n",
    "for i in results:\n",
    "    print(\"제목 :\", i.string)\n",
    "    print(\"링크 :\", i.attrs['href'])\n",
    "    print()\n",
    "   \n",
    "# h1 = soup.find_all(\"a\", class_=\"plus\")\n",
    "# h2 = soup.find(\"a\")\n",
    "# h3 = soup.select(\"span.value\")\n",
    "# h4 = soup.select_one(\"#king>ul.items\")\n",
    "# h5 = soup.select(\"div li\")\n",
    "\n",
    "# print(h1.string)\n",
    "# print(h1.attrs[\"title\"])\n",
    "\n"
   ]
  },
  {
   "cell_type": "code",
   "execution_count": null,
   "metadata": {},
   "outputs": [],
   "source": [
    "name ='홍길동'\n",
    "year = 15\n",
    "print(\"{}나이는 {}살이다\", format(name, year))\n",
    "print(\"%s나이는 %d살이다\" %(name, year))\n",
    "print(f\"{name}나이는 {year}살이다\")"
   ]
  },
  {
   "cell_type": "code",
   "execution_count": null,
   "metadata": {},
   "outputs": [],
   "source": [
    "https://www.innogov.go.kr/ucms/ogp/sug/list.do?pnum=1&menuNo=300011&cateCd=&status1Cd=&Status2Cd=&searchText=&sugMonthTp=&orderKey=registDtDesc\n",
    "https://www.innogov.go.kr/ucms/ogp/sug/list.do?pnum=2&menuNo=300011&cateCd=&status1Cd=&Status2Cd=&searchText=&sugMonthTp=&orderKey=registDtDesc\n",
    "https://www.innogov.go.kr/ucms/ogp/sug/list.do?pnum=3&menuNo=300011&cateCd=&status1Cd=&Status2Cd=&searchText=&sugMonthTp=&orderKey=registDtDesc"
   ]
  },
  {
   "cell_type": "code",
   "execution_count": null,
   "metadata": {},
   "outputs": [],
   "source": [
    "num = int(input('page : '))\n",
    "results = soup.select(\"#content > div.suggestion_list > ul > li > dl > dt > p > a\")\n",
    "for i in range(0, num):\n",
    "    url = f'https://www.innogov.go.kr/ucms/ogp/sug/list.do?pnum={i}&menuNo=300011' #&cateCd=&status1Cd=&Status2Cd=&searchText=&sugMonthTp=&orderKey=registDtDesc'\n",
    "    html = urlopen(url)\n",
    "    soup = BeautifulSoup(html, 'html.parser')\n",
    "\n",
    "    results = soup.select(\"#content > div.suggestion_list > ul > li > dl > dt > p > a\")\n",
    "    print (f\"{i+1} page ------------------------------------------------------------\")\n",
    "    for j in results:\n",
    "        print(\"제목 :\", j.string)\n",
    "        print(\"링크 :\", j.attrs['href'])\n",
    "        print()"
   ]
  },
  {
   "cell_type": "code",
   "execution_count": null,
   "metadata": {},
   "outputs": [],
   "source": [
    "from urllib.parse import quote_plus\n",
    "search = quote_plus(input('search : '))\n",
    "num = int(input('page : '))\n",
    "results = soup.select(\"#content > div.suggestion_list > ul > li > dl > dt > p > a\")\n",
    "for i in range(0, num):\n",
    "    print(i)\n",
    "    url = f'http://www.innogov.go.kr/ucms/ogp/sug/list.do?pnum={num}&menuNo=300011&cateCd=&status1Cd=&Status2Cd=&searchText={quote_plus(search)}&sugMonthTp=&orderKey=registDtDesc'\n",
    "    \n",
    "    html = urlopen(url)\n",
    "    soup = BeautifulSoup(html, 'html.parser')\n",
    "\n",
    "    results = soup.select(\"#content > div.suggestion_list > ul > li > dl > dt > p > a\")\n",
    "    print (f\"{i+1} page ------------------------------------------------------------\")\n",
    "    for j in results:\n",
    "        print(\"제목 :\", j.string)\n",
    "        print(\"링크 :\", j.attrs['href'])\n",
    "        print()"
   ]
  },
  {
   "cell_type": "code",
   "execution_count": null,
   "metadata": {},
   "outputs": [],
   "source": [
    "from urllib.parse import quote_plus\n",
    "num = int(input('page : '))\n",
    "li = []\n",
    "results = soup.select(\"#content > div.suggestion_list > ul > li > dl > dt > p > a\")\n",
    "for i in range(0, num):\n",
    "    url = f'http://www.innogov.go.kr/ucms/ogp/sug/list.do?pnum={i}&menuNo=300011'\n",
    "    \n",
    "    html = urlopen(url)\n",
    "    soup = BeautifulSoup(html, 'html.parser')\n",
    "\n",
    "    results = soup.select(\"#content > div.suggestion_list > ul > li > dl > dt > p > a\")\n",
    "    for i in results:\n",
    "        li.append(i.attrs['href'])"
   ]
  },
  {
   "cell_type": "code",
   "execution_count": null,
   "metadata": {},
   "outputs": [],
   "source": [
    "print(li[0:5])"
   ]
  },
  {
   "cell_type": "code",
   "execution_count": null,
   "metadata": {},
   "outputs": [],
   "source": [
    "url = '/ucms/ogp/sug/view.do?menuNo=300011&sgId=277&pnum=1'\n",
    "baseurl = f'https://www.innogov.go.kr{url}'\n",
    "\n",
    "html = urlopen(baseurl)\n",
    "soup = BeautifulSoup(html, 'html.parser')\n",
    "\n",
    "vote = soup.select_one(\"#counter\").string\n",
    "print(vote)\n",
    "\n",
    "# title = soup.find('dl', class_='vview_titl1').find('dt')\n",
    "# print(title.string)\n",
    "\n",
    "url.split('=')[2].split('&')[0]\n"
   ]
  },
  {
   "cell_type": "code",
   "execution_count": null,
   "metadata": {},
   "outputs": [],
   "source": [
    "def get(url):\n",
    "    article=[]\n",
    "\n",
    "    baseurl = f'https://www.innogov.go.kr/{url}'\n",
    "#     print(baseurl)\n",
    "    # print(baseurl)\n",
    "    \n",
    "    html = urlopen(baseurl)\n",
    "    soup = BeautifulSoup(html, 'html.parser')\n",
    "    article.append(url.split('=')[2].split('&')[0]) # pnum\n",
    "    article.append(soup.select_one('#content > div.vveiw_box1 > dl > dt').string) # 타이틀\n",
    "    article.append(soup.select_one('#content > div.vveiw_box1 > div.vveiw_name > ul > li:nth-child(1) > dl > dd').string) #제안 분야\n",
    "    article.append(soup.select_one('#content > div.vveiw_box1 > div.vveiw_name > ul > li:nth-child(2) > dl > dd').string) # 제안 시작\n",
    "    article.append(soup.select_one('#content > div.vveiw_box1 > div.vveiw_name > ul > li:nth-child(3) > dl > dd').string) # 제안 마감\n",
    "    article.append(soup.select_one(\"#counter\").string ) # 추천 인원\n",
    "    article.append(soup.select_one('#content > div.vveiw_box1 > div.vveiw_name > ul > li:nth-child(4) > dl > dd').string) # 제안인\n",
    "    return article\n"
   ]
  },
  {
   "cell_type": "code",
   "execution_count": null,
   "metadata": {},
   "outputs": [],
   "source": [
    "data = []\n",
    "for url in li:\n",
    "    a = get(url)\n",
    "    data.append(a)"
   ]
  },
  {
   "cell_type": "code",
   "execution_count": null,
   "metadata": {},
   "outputs": [],
   "source": [
    "import pandas as pd\n",
    "import numpy as np\n",
    "\n",
    "col = ['id', 'title', 'category', 'start', 'end', 'vote', 'author']\n",
    "df = pd.DataFrame(data, columns = col)\n",
    "df.head(3)"
   ]
  },
  {
   "cell_type": "code",
   "execution_count": null,
   "metadata": {},
   "outputs": [],
   "source": [
    "df.info()"
   ]
  },
  {
   "cell_type": "code",
   "execution_count": 10,
   "metadata": {},
   "outputs": [
    {
     "data": {
      "text/html": [
       "<div>\n",
       "<style scoped>\n",
       "    .dataframe tbody tr th:only-of-type {\n",
       "        vertical-align: middle;\n",
       "    }\n",
       "\n",
       "    .dataframe tbody tr th {\n",
       "        vertical-align: top;\n",
       "    }\n",
       "\n",
       "    .dataframe thead th {\n",
       "        text-align: right;\n",
       "    }\n",
       "</style>\n",
       "<table border=\"1\" class=\"dataframe\">\n",
       "  <thead>\n",
       "    <tr style=\"text-align: right;\">\n",
       "      <th></th>\n",
       "      <th>id</th>\n",
       "      <th>title</th>\n",
       "      <th>category</th>\n",
       "      <th>start</th>\n",
       "      <th>end</th>\n",
       "      <th>vote</th>\n",
       "      <th>author</th>\n",
       "    </tr>\n",
       "  </thead>\n",
       "  <tbody>\n",
       "    <tr>\n",
       "      <td>count</td>\n",
       "      <td>15</td>\n",
       "      <td>15</td>\n",
       "      <td>15</td>\n",
       "      <td>15</td>\n",
       "      <td>15</td>\n",
       "      <td>15</td>\n",
       "      <td>15</td>\n",
       "    </tr>\n",
       "    <tr>\n",
       "      <td>unique</td>\n",
       "      <td>10</td>\n",
       "      <td>10</td>\n",
       "      <td>5</td>\n",
       "      <td>7</td>\n",
       "      <td>7</td>\n",
       "      <td>6</td>\n",
       "      <td>10</td>\n",
       "    </tr>\n",
       "    <tr>\n",
       "      <td>top</td>\n",
       "      <td>280</td>\n",
       "      <td>공무원 인트라넷 통합메신저</td>\n",
       "      <td>일반행정</td>\n",
       "      <td>2019.10.15</td>\n",
       "      <td>2020.01.12</td>\n",
       "      <td>0</td>\n",
       "      <td>ㅁㄴㅁ</td>\n",
       "    </tr>\n",
       "    <tr>\n",
       "      <td>freq</td>\n",
       "      <td>2</td>\n",
       "      <td>2</td>\n",
       "      <td>9</td>\n",
       "      <td>6</td>\n",
       "      <td>6</td>\n",
       "      <td>6</td>\n",
       "      <td>2</td>\n",
       "    </tr>\n",
       "  </tbody>\n",
       "</table>\n",
       "</div>"
      ],
      "text/plain": [
       "         id           title category       start         end vote author\n",
       "count    15              15       15          15          15   15     15\n",
       "unique   10              10        5           7           7    6     10\n",
       "top     280  공무원 인트라넷 통합메신저     일반행정  2019.10.15  2020.01.12    0    ㅁㄴㅁ\n",
       "freq      2               2        9           6           6    6      2"
      ]
     },
     "execution_count": 10,
     "metadata": {},
     "output_type": "execute_result"
    }
   ],
   "source": [
    "df.describe()"
   ]
  },
  {
   "cell_type": "code",
   "execution_count": 13,
   "metadata": {},
   "outputs": [
    {
     "data": {
      "text/html": [
       "<div>\n",
       "<style scoped>\n",
       "    .dataframe tbody tr th:only-of-type {\n",
       "        vertical-align: middle;\n",
       "    }\n",
       "\n",
       "    .dataframe tbody tr th {\n",
       "        vertical-align: top;\n",
       "    }\n",
       "\n",
       "    .dataframe thead th {\n",
       "        text-align: right;\n",
       "    }\n",
       "</style>\n",
       "<table border=\"1\" class=\"dataframe\">\n",
       "  <thead>\n",
       "    <tr style=\"text-align: right;\">\n",
       "      <th></th>\n",
       "      <th>id</th>\n",
       "      <th>제목</th>\n",
       "      <th>제안분야</th>\n",
       "      <th>제안시작</th>\n",
       "      <th>제안마감</th>\n",
       "      <th>투표수</th>\n",
       "      <th>제안인</th>\n",
       "    </tr>\n",
       "  </thead>\n",
       "  <tbody>\n",
       "    <tr>\n",
       "      <td>0</td>\n",
       "      <td>280</td>\n",
       "      <td>행정기관 소속 위원회 위원 개인정보 및 안건 공개 기준에 관한 법적 근거 마련</td>\n",
       "      <td>일반행정</td>\n",
       "      <td>2019.10.16</td>\n",
       "      <td>2020.01.13</td>\n",
       "      <td>0</td>\n",
       "      <td>법제혁신</td>\n",
       "    </tr>\n",
       "    <tr>\n",
       "      <td>1</td>\n",
       "      <td>279</td>\n",
       "      <td>초과근무 줄이기!</td>\n",
       "      <td>일반행정</td>\n",
       "      <td>2019.10.16</td>\n",
       "      <td>2020.01.13</td>\n",
       "      <td>2</td>\n",
       "      <td>ㅁㄴㅁ</td>\n",
       "    </tr>\n",
       "    <tr>\n",
       "      <td>2</td>\n",
       "      <td>278</td>\n",
       "      <td>원스톱 의원요구자료 제출 시스템 구축</td>\n",
       "      <td>일반행정</td>\n",
       "      <td>2019.10.15</td>\n",
       "      <td>2020.01.12</td>\n",
       "      <td>0</td>\n",
       "      <td>연시랑</td>\n",
       "    </tr>\n",
       "    <tr>\n",
       "      <td>3</td>\n",
       "      <td>277</td>\n",
       "      <td>예산을 공평하게 분배</td>\n",
       "      <td>사회통합</td>\n",
       "      <td>2019.10.15</td>\n",
       "      <td>2020.01.12</td>\n",
       "      <td>3</td>\n",
       "      <td>슈퍼맨119</td>\n",
       "    </tr>\n",
       "    <tr>\n",
       "      <td>4</td>\n",
       "      <td>276</td>\n",
       "      <td>공무원 인트라넷 통합메신저</td>\n",
       "      <td>일반행정</td>\n",
       "      <td>2019.10.15</td>\n",
       "      <td>2020.01.12</td>\n",
       "      <td>0</td>\n",
       "      <td>페이소스</td>\n",
       "    </tr>\n",
       "  </tbody>\n",
       "</table>\n",
       "</div>"
      ],
      "text/plain": [
       "    id                                           제목  제안분야        제안시작  \\\n",
       "0  280  행정기관 소속 위원회 위원 개인정보 및 안건 공개 기준에 관한 법적 근거 마련  일반행정  2019.10.16   \n",
       "1  279                                    초과근무 줄이기!  일반행정  2019.10.16   \n",
       "2  278                         원스톱 의원요구자료 제출 시스템 구축  일반행정  2019.10.15   \n",
       "3  277                                  예산을 공평하게 분배  사회통합  2019.10.15   \n",
       "4  276                               공무원 인트라넷 통합메신저  일반행정  2019.10.15   \n",
       "\n",
       "         제안마감 투표수     제안인  \n",
       "0  2020.01.13   0    법제혁신  \n",
       "1  2020.01.13   2     ㅁㄴㅁ  \n",
       "2  2020.01.12   0     연시랑  \n",
       "3  2020.01.12   3  슈퍼맨119  \n",
       "4  2020.01.12   0    페이소스  "
      ]
     },
     "execution_count": 13,
     "metadata": {},
     "output_type": "execute_result"
    }
   ],
   "source": [
    "df.rename(columns={df.columns[1] : \"제목\",\n",
    "                   df.columns[2] : \"제안분야\", \n",
    "                   df.columns[3] : \"제안시작\", \n",
    "                   df.columns[4] : \"제안마감\",\n",
    "                   df.columns[5] : \"투표수\",\n",
    "                   df.columns[6] : \"제안인\"}, inplace=True)\n",
    "df.head()"
   ]
  },
  {
   "cell_type": "code",
   "execution_count": 14,
   "metadata": {},
   "outputs": [],
   "source": [
    "df.to_csv('../data/suggestion.csv', encoding='utf-8', sep=',')"
   ]
  },
  {
   "cell_type": "code",
   "execution_count": null,
   "metadata": {},
   "outputs": [],
   "source": []
  }
 ],
 "metadata": {
  "kernelspec": {
   "display_name": "Python 3",
   "language": "python",
   "name": "python3"
  },
  "language_info": {
   "codemirror_mode": {
    "name": "ipython",
    "version": 3
   },
   "file_extension": ".py",
   "mimetype": "text/x-python",
   "name": "python",
   "nbconvert_exporter": "python",
   "pygments_lexer": "ipython3",
   "version": "3.7.4"
  }
 },
 "nbformat": 4,
 "nbformat_minor": 2
}
