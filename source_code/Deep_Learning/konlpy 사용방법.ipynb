{
 "cells": [
  {
   "cell_type": "code",
   "execution_count": 2,
   "metadata": {},
   "outputs": [],
   "source": [
    "from konlpy.tag import *"
   ]
  },
  {
   "cell_type": "code",
   "execution_count": 5,
   "metadata": {},
   "outputs": [
    {
     "name": "stdout",
     "output_type": "stream",
     "text": [
      "['사과', '가', '건강', '에', '좋다고', '하더라', '구', '.', '사과', '에', '비타민', '이', '많다잖아', '.', '그래서', '사과', '를', '사러', '근처', '슈퍼', '에', '갔더니', '사과', '가격', '이', '글쎄', '3', '개', '에', '5천원', '이라고', '해서', '사지', '않았어', '.']\n"
     ]
    }
   ],
   "source": [
    "okt = Okt()\n",
    "\n",
    "text = '사과가 건강에 좋다고 하더라구. 사과에 비타민이 많다잖아. 그래서 사과를 사러 근처 슈퍼에 갔더니 사과 가격이 글쎄 3개에 5천원이라고 해서 사지 않았어.'\n",
    "print(okt.morphs(text))"
   ]
  },
  {
   "cell_type": "code",
   "execution_count": 3,
   "metadata": {},
   "outputs": [],
   "source": [
    "hannanum =  Hannanum ()\n",
    "kkma  =  Kkma () \n",
    "komoran  =  Komoran () \n",
    "okt = Okt()\n",
    "# mecab = Mecab()"
   ]
  },
  {
   "cell_type": "code",
   "execution_count": 4,
   "metadata": {},
   "outputs": [],
   "source": [
    "text = \"오늘은 즐거운 화요일이다. 행복하다.\""
   ]
  },
  {
   "cell_type": "markdown",
   "metadata": {},
   "source": [
    "### 위 형태소 분석기 모두 공통적으로 아래 함수를 제공"
   ]
  },
  {
   "cell_type": "code",
   "execution_count": 5,
   "metadata": {},
   "outputs": [
    {
     "name": "stdout",
     "output_type": "stream",
     "text": [
      "명사 추출 : ['오늘', '화요일']\n",
      "형태소 추출 : ['오늘', '은', '즐거운', '화요일', '이다', '.', '행복하다', '.']\n",
      "품사 부착 : [('오늘', 'Noun'), ('은', 'Josa'), ('즐거운', 'Adjective'), ('화요일', 'Noun'), ('이다', 'Josa'), ('.', 'Punctuation'), ('행복하다', 'Adjective'), ('.', 'Punctuation')]\n"
     ]
    }
   ],
   "source": [
    "print(f\"명사 추출 : {okt.nouns(text)}\")\n",
    "print(f\"형태소 추출 : {okt.morphs(text)}\")\n",
    "print(f\"품사 부착 : {okt.pos(text)}\")"
   ]
  },
  {
   "cell_type": "markdown",
   "metadata": {},
   "source": [
    "## konlpy에서 제공하는 유용한 기능들"
   ]
  },
  {
   "cell_type": "markdown",
   "metadata": {},
   "source": [
    "### concordance : 입력 단어가 텍스트에서 몇 번째 구(phrase)에 속하는지를 알려주는 함수"
   ]
  },
  {
   "cell_type": "code",
   "execution_count": 42,
   "metadata": {},
   "outputs": [
    {
     "data": {
      "text/plain": [
       "[1]"
      ]
     },
     "execution_count": 42,
     "metadata": {},
     "output_type": "execute_result"
    }
   ],
   "source": [
    "konlpy.utils.concordance(\"만나\", \"안녕하세요. 만나서 반가워요\")"
   ]
  },
  {
   "cell_type": "markdown",
   "metadata": {},
   "source": [
    "### char2hex :  글자에 대응되는 16진수를 반환해주는 함수"
   ]
  },
  {
   "cell_type": "code",
   "execution_count": 28,
   "metadata": {},
   "outputs": [
    {
     "name": "stdout",
     "output_type": "stream",
     "text": [
      "'가'의 16진수 표기 : 0xac00\n"
     ]
    }
   ],
   "source": [
    "char_obj = u'가'\n",
    "print(f\"'{char_obj}'의 16진수 표기 : {konlpy.utils.char2hex(char_obj)}\")"
   ]
  },
  {
   "cell_type": "markdown",
   "metadata": {},
   "source": [
    "### delete_links : 텍스트 내에 있는 웹사이트 링크(주소)를 지워주는 함수"
   ]
  },
  {
   "cell_type": "code",
   "execution_count": 27,
   "metadata": {},
   "outputs": [
    {
     "data": {
      "text/plain": [
       "'구글 주소는  입니다.'"
      ]
     },
     "execution_count": 27,
     "metadata": {},
     "output_type": "execute_result"
    }
   ],
   "source": [
    "konlpy.utils.delete_links(\"구글 주소는 https://google.com/ 입니다.\")"
   ]
  },
  {
   "cell_type": "markdown",
   "metadata": {},
   "source": [
    "### delete_mentions : 소셜 미디어의 멘션 헤더(@아이디 or 태크)가 텍스트에 포함되어 있을 경우 이를 지워주는 함수"
   ]
  },
  {
   "cell_type": "code",
   "execution_count": 29,
   "metadata": {},
   "outputs": [
    {
     "data": {
      "text/plain": [
       "' 뭐라는 거얔ㅋㅋ'"
      ]
     },
     "execution_count": 29,
     "metadata": {},
     "output_type": "execute_result"
    }
   ],
   "source": [
    "konlpy.utils.delete_mentions(\"@김철수 뭐라는 거얔ㅋㅋ\")"
   ]
  },
  {
   "cell_type": "markdown",
   "metadata": {},
   "source": [
    "### replace_set : 유니코드 상에서 대체될 수 있는 특수 문자들의 쌍을 모은 리스트"
   ]
  },
  {
   "cell_type": "code",
   "execution_count": 32,
   "metadata": {},
   "outputs": [
    {
     "name": "stdout",
     "output_type": "stream",
     "text": [
      "[('·', '/'), ('․', '/'), ('ㆍ', '/'), ('･', '/'), ('～', '~'), ('❑', '-'), ('‘', \"'\"), ('’', \"'\"), ('“', '\"'), ('”', '\"'), ('「', '<'), ('」', '>')]\n"
     ]
    }
   ],
   "source": [
    "print(konlpy.utils.replace_set)"
   ]
  },
  {
   "cell_type": "code",
   "execution_count": null,
   "metadata": {},
   "outputs": [],
   "source": []
  }
 ],
 "metadata": {
  "kernelspec": {
   "display_name": "Python 3",
   "language": "python",
   "name": "python3"
  },
  "language_info": {
   "codemirror_mode": {
    "name": "ipython",
    "version": 3
   },
   "file_extension": ".py",
   "mimetype": "text/x-python",
   "name": "python",
   "nbconvert_exporter": "python",
   "pygments_lexer": "ipython3",
   "version": "3.7.4"
  }
 },
 "nbformat": 4,
 "nbformat_minor": 2
}
